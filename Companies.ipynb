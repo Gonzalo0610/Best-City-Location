{
 "cells": [
  {
   "cell_type": "code",
   "execution_count": 457,
   "metadata": {},
   "outputs": [],
   "source": [
    "from pymongo import MongoClient\n",
    "import pandas as pd\n",
    "import seaborn as sns\n",
    "import matplotlib.pyplot as plt\n",
    "import time\n",
    "import requests\n",
    "import os\n",
    "from dotenv import load_dotenv\n",
    "import folium\n",
    "from folium import Choropleth, Circle, Marker, Icon, Map, TileLayer\n",
    "from folium.plugins import HeatMap, MarkerCluster\n",
    "import geopandas as gpd\n",
    "import json\n",
    "import random\n",
    "import Fun\n"
   ]
  },
  {
   "cell_type": "code",
   "execution_count": 290,
   "metadata": {},
   "outputs": [],
   "source": [
    "\n",
    "def Mapa(lat, lon):\n",
    "    origen = Map(location=[lat, lon], zoom_start=13)\n",
    "#Option of setting the company    \n",
    "    icon1 = Icon(\n",
    "        color=\"lightred\",\n",
    "        prefix=\"fa\",\n",
    "        icon=\"gamepad\",\n",
    "        icon_color=\"white\"\n",
    "    )\n",
    "\n",
    "    game = Marker(\n",
    "        location=[lat, lon],\n",
    "        tooltip=\"Game\",\n",
    "        icon=icon1\n",
    "    )\n",
    "    game.add_to(origen)\n",
    "\n",
    "#Starbucks  \n",
    "    url = f\"https://api.foursquare.com/v3/places/search?query=Starbucks&near={lat}%2C{lon}&limit=1\"\n",
    "\n",
    "    headers = {\n",
    "        \"accept\": \"application/json\",\n",
    "        \"Authorization\": (token)\n",
    "    }\n",
    "\n",
    "    response = requests.get(url, headers=headers)\n",
    "    coffe = response.json()[\"results\"][0]\n",
    "    loncoffe = coffe[\"geocodes\"][\"main\"][\"longitude\"]\n",
    "    latcoffe = coffe[\"geocodes\"][\"main\"][\"latitude\"]\n",
    "    \n",
    "    icon2 = Icon(\n",
    "        color=\"white\",\n",
    "        prefix=\"fa\",\n",
    "        icon=\"coffee\",\n",
    "        icon_color=\"green\"\n",
    "    )\n",
    "\n",
    "    coffee = Marker(\n",
    "        location=[latcoffe, loncoffe],\n",
    "        tooltip=\"coffee\",\n",
    "        icon=icon2\n",
    "    )\n",
    "    coffee.add_to(origen)\n",
    "#airports category:19031\n",
    "    url = f\"https://api.foursquare.com/v3/places/search?ll={lat}%2C{lon}&categories=19031&limit=1\"\n",
    "\n",
    "    response = requests.get(url, headers=headers)\n",
    "    air = response.json()[\"results\"][0]\n",
    "    lonair = air[\"geocodes\"][\"main\"][\"longitude\"]\n",
    "    latair = air[\"geocodes\"][\"main\"][\"latitude\"]\n",
    "    \n",
    "    icon3 = Icon(\n",
    "        color=\"lightblue\",\n",
    "        prefix=\"fa\",\n",
    "        icon=\"plane\",\n",
    "        icon_color=\"grey\"\n",
    "    )\n",
    "\n",
    "    plane = Marker(\n",
    "        location=[latair, lonair],\n",
    "        tooltip=\"Airport\",\n",
    "        icon=icon3\n",
    "    )\n",
    "    plane.add_to(origen)\n",
    "#Metros and buses\n",
    "    url = f\"https://api.foursquare.com/v3/places/search?ll={lat}%2C{lon}&categories=19046%2C19042&limit=1\"\n",
    "\n",
    "    response = requests.get(url, headers=headers)\n",
    "    metro = response.json()[\"results\"][0]\n",
    "    lonmetro = metro[\"geocodes\"][\"main\"][\"longitude\"]\n",
    "    latmetro = metro[\"geocodes\"][\"main\"][\"latitude\"]\n",
    "    \n",
    "    icon4 = Icon(\n",
    "        color=\"lightblue\",\n",
    "        prefix=\"fa\",\n",
    "        icon=\"bus\",\n",
    "        icon_color=\"grey\"\n",
    "    )\n",
    "\n",
    "    metro = Marker(\n",
    "        location=[latmetro, lonmetro],\n",
    "        tooltip=\"Bus/Metro Station\",\n",
    "        icon=icon4\n",
    "    )\n",
    "    metro.add_to(origen)\n",
    "\n",
    "\n",
    "#Rail and Tram\n",
    "    url = f\"https://api.foursquare.com/v3/places/search?ll={lat}%2C{lon}&categories=19047%2C19050&limit=1\"\n",
    "\n",
    "    response = requests.get(url, headers=headers)\n",
    "    rail = response.json()[\"results\"][0]\n",
    "    lonrail = rail[\"geocodes\"][\"main\"][\"longitude\"]\n",
    "    latrail = rail[\"geocodes\"][\"main\"][\"latitude\"]\n",
    "    \n",
    "    icon5 = Icon(\n",
    "        color=\"lightblue\",\n",
    "        prefix=\"fa\",\n",
    "        icon=\"train\",\n",
    "        icon_color=\"grey\"\n",
    "    )\n",
    "\n",
    "    rail = Marker(\n",
    "        location=[latrail, lonrail],\n",
    "        tooltip=\"Train/Tram Station\",\n",
    "        icon=icon5\n",
    "    )\n",
    "    rail.add_to(origen)\n",
    "\n",
    "#Schools category:12057\n",
    "    url = f\"https://api.foursquare.com/v3/places/search?ll={lat}%2C{lon}&categories=12057&limit=1\"\n",
    "\n",
    "    response = requests.get(url, headers=headers)\n",
    "    school = response.json()[\"results\"][0]\n",
    "    lonschool = school[\"geocodes\"][\"main\"][\"longitude\"]\n",
    "    latschool = school[\"geocodes\"][\"main\"][\"latitude\"]\n",
    "    \n",
    "    icon6 = Icon(\n",
    "        color=\"orange\",\n",
    "        prefix=\"fa\",\n",
    "        icon=\"graduation-cap\",\n",
    "        icon_color=\"black\"\n",
    "    )\n",
    "\n",
    "    school = Marker(\n",
    "        location=[latschool, lonschool],\n",
    "        tooltip=\"School\",\n",
    "        icon=icon6\n",
    "    )\n",
    "    school.add_to(origen)\n",
    "\n",
    "#Kindergarten Schools category:12056\n",
    "    url = f\"https://api.foursquare.com/v3/places/search?ll={lat}%2C{lon}&categories=12056&limit=1\"\n",
    "\n",
    "    response = requests.get(url, headers=headers)\n",
    "    kinder = response.json()[\"results\"][0]\n",
    "    lonkinder = kinder[\"geocodes\"][\"main\"][\"longitude\"]\n",
    "    latkinder = kinder[\"geocodes\"][\"main\"][\"latitude\"]\n",
    "    \n",
    "    icon7 = Icon(\n",
    "        color=\"orange\",\n",
    "        prefix=\"fa\",\n",
    "        icon=\"child\",\n",
    "        icon_color=\"black\"\n",
    "    )\n",
    "\n",
    "    kinder = Marker(\n",
    "        location=[latkinder, lonkinder],\n",
    "        tooltip=\"KinderGarten\",\n",
    "        icon=icon7\n",
    "    )\n",
    "    kinder.add_to(origen)\n",
    "#Vegan\n",
    "    url = f\"https://api.foursquare.com/v3/places/search?ll={lat}%2C{lon}&categories=13377&limit=1\"\n",
    "\n",
    "    response = requests.get(url, headers=headers)\n",
    "    vegan = response.json()[\"results\"][0]\n",
    "    lonvegan = vegan[\"geocodes\"][\"main\"][\"longitude\"]\n",
    "    latvegan = vegan[\"geocodes\"][\"main\"][\"latitude\"]\n",
    "    \n",
    "    icon8 = Icon(\n",
    "        color=\"green\",\n",
    "        prefix=\"fa\",\n",
    "        icon=\"cutlery\",\n",
    "        icon_color=\"white\"\n",
    "    )\n",
    "\n",
    "    vegan = Marker(\n",
    "        location=[latvegan, lonvegan],\n",
    "        tooltip=\"Vegan\",\n",
    "        icon=icon8\n",
    "    )\n",
    "    vegan.add_to(origen)\n",
    "\n",
    "\n",
    "#Court\n",
    "    url = f\"https://api.foursquare.com/v3/places/search?ll={lat}%2C{lon}&categories=18006&limit=1\"\n",
    "\n",
    "    response = requests.get(url, headers=headers)\n",
    "    basket = response.json()[\"results\"][0]\n",
    "    lonbasket = basket[\"geocodes\"][\"main\"][\"longitude\"]\n",
    "    latbasket = basket[\"geocodes\"][\"main\"][\"latitude\"]\n",
    "    \n",
    "    icon9 = Icon(\n",
    "        color=\"white\",\n",
    "        prefix=\"fa\",\n",
    "        icon=\"globe\",\n",
    "        icon_color=\"orange\"\n",
    "    )\n",
    "\n",
    "    basket = Marker(\n",
    "        location=[latbasket, lonbasket],\n",
    "        tooltip=\"Stadium\",\n",
    "        icon=icon9\n",
    "    )\n",
    "    basket.add_to(origen)\n",
    "    return origen"
   ]
  },
  {
   "cell_type": "code",
   "execution_count": 497,
   "metadata": {},
   "outputs": [],
   "source": [
    "sfmap=Mapa(lat1,lon1)"
   ]
  },
  {
   "cell_type": "code",
   "execution_count": 496,
   "metadata": {},
   "outputs": [],
   "source": [
    "nymap=Mapa(lat2,lon2)"
   ]
  },
  {
   "cell_type": "code",
   "execution_count": 495,
   "metadata": {},
   "outputs": [],
   "source": [
    "lonmap=Mapa(lat3,lon3)"
   ]
  },
  {
   "cell_type": "code",
   "execution_count": 498,
   "metadata": {},
   "outputs": [],
   "source": [
    "sfmap.save(\"Images/sf.html\")\n",
    "nymap.save(\"Images/ny.html\")\n",
    "lonmap.save(\"Images/lon.html\")"
   ]
  },
  {
   "cell_type": "code",
   "execution_count": 222,
   "metadata": {},
   "outputs": [
    {
     "data": {
      "text/plain": [
       "True"
      ]
     },
     "execution_count": 222,
     "metadata": {},
     "output_type": "execute_result"
    }
   ],
   "source": [
    "load_dotenv()"
   ]
  },
  {
   "cell_type": "code",
   "execution_count": 223,
   "metadata": {},
   "outputs": [],
   "source": [
    "token=os.getenv(\"token\")"
   ]
  },
  {
   "cell_type": "code",
   "execution_count": 93,
   "metadata": {},
   "outputs": [
    {
     "data": {
      "text/plain": [
       "['Ironhack', 'admin', 'companies', 'config', 'local']"
      ]
     },
     "execution_count": 93,
     "metadata": {},
     "output_type": "execute_result"
    }
   ],
   "source": [
    "client = MongoClient(\"localhost:27017\")\n",
    "client.list_database_names()"
   ]
  },
  {
   "cell_type": "code",
   "execution_count": 94,
   "metadata": {},
   "outputs": [],
   "source": [
    "db = client[\"Ironhack\"]"
   ]
  },
  {
   "cell_type": "code",
   "execution_count": 95,
   "metadata": {},
   "outputs": [],
   "source": [
    "c = db.get_collection(\"companies\")"
   ]
  },
  {
   "cell_type": "code",
   "execution_count": 96,
   "metadata": {},
   "outputs": [],
   "source": [
    "cities=list(c.find({\"ipo.valuation_amount\":{\"$gte\":1000000}},{\"_id\":0, \"name\":1, \"ipo.valuation_amount\":1, \"offices.city\":1}))"
   ]
  },
  {
   "cell_type": "code",
   "execution_count": 101,
   "metadata": {},
   "outputs": [
    {
     "name": "stdout",
     "output_type": "stream",
     "text": [
      "{'Menlo Park': 1, 'Dublin': 1, 'New York': 7, 'San Francisco': 9, 'Mountain View': 1, 'Seattle': 4, 'Cambridge': 1, 'Tokyo': 3, 'London': 5, 'Hamburg': 1, 'Barcelona': 1, 'Prague': 1, 'Windsor, Victoria': 1, 'Stockholm': 1, 'Ciudad de Buenos Aires': 1, 'Maspero, Cairo': 1, 'Singapore': 2, 'Mississauga, Ontario': 1, 'Dubai': 1, 'Morrisville': 1, 'Palo Alto': 2, 'Frankfurt am Main': 1, 'Boulder': 2, 'Portland': 1, 'Or Yehuda': 1, 'Tel Aviv': 1, 'Redwood City': 1, 'Newton': 1, 'Austin': 2, 'San Diego': 1, 'Foster City': 1, 'San Antonio': 1, 'Houston': 1, 'New Haven': 1, 'Santa Clara': 3, 'Shenzhen': 1, 'San Mateo': 1, 'Beijing': 3, 'Fairfax': 1, 'Dexter': 1, 'Sunnyvale': 3, 'Kirkland': 2, 'Changning, Shanghai': 1, 'Sao Paulo': 1, 'Chelmsford, Essex': 1, 'Denver': 1, 'Raleigh': 1, 'Amsterdam': 1, 'Buckinghamshire': 1, 'Melbourne': 1, 'Helsinki': 1, 'Oakland': 1, 'Radnor': 1, 'Lund': 1, 'Clearwater': 2, 'Chicago': 1, '': 1, 'San Carlos': 1, 'Santa Monica': 1, 'Lake Forest': 1, 'Baltimore': 1, 'Hopland': 1, 'San Rafael': 1, 'Murrieta': 1, 'Louisville': 1, 'Santa Cruz': 1, 'Merrimack': 1, 'Missoula': 1, 'Shanghai': 1, 'Boston': 1, 'Somers': 1, 'Phoenix': 1, 'Nashville': 1, 'Trabuco Canyon': 1, 'Ocala': 1}\n"
     ]
    }
   ],
   "source": [
    "city_count = {}\n",
    "for company in cities:\n",
    "    for office in company['offices']:\n",
    "        city = office['city']\n",
    "        if city in city_count:\n",
    "            city_count[city] += 1\n",
    "        else:\n",
    "            city_count[city] = 1\n",
    "\n",
    "print(city_count)"
   ]
  },
  {
   "cell_type": "code",
   "execution_count": 102,
   "metadata": {},
   "outputs": [
    {
     "name": "stdout",
     "output_type": "stream",
     "text": [
      "[('San Francisco', 9), ('New York', 7), ('London', 5), ('Seattle', 4), ('Tokyo', 3), ('Santa Clara', 3), ('Beijing', 3), ('Sunnyvale', 3), ('Singapore', 2), ('Palo Alto', 2), ('Boulder', 2), ('Austin', 2), ('Kirkland', 2), ('Clearwater', 2), ('Menlo Park', 1), ('Dublin', 1), ('Mountain View', 1), ('Cambridge', 1), ('Hamburg', 1), ('Barcelona', 1), ('Prague', 1), ('Windsor, Victoria', 1), ('Stockholm', 1), ('Ciudad de Buenos Aires', 1), ('Maspero, Cairo', 1), ('Mississauga, Ontario', 1), ('Dubai', 1), ('Morrisville', 1), ('Frankfurt am Main', 1), ('Portland', 1), ('Or Yehuda', 1), ('Tel Aviv', 1), ('Redwood City', 1), ('Newton', 1), ('San Diego', 1), ('Foster City', 1), ('San Antonio', 1), ('Houston', 1), ('New Haven', 1), ('Shenzhen', 1), ('San Mateo', 1), ('Fairfax', 1), ('Dexter', 1), ('Changning, Shanghai', 1), ('Sao Paulo', 1), ('Chelmsford, Essex', 1), ('Denver', 1), ('Raleigh', 1), ('Amsterdam', 1), ('Buckinghamshire', 1), ('Melbourne', 1), ('Helsinki', 1), ('Oakland', 1), ('Radnor', 1), ('Lund', 1), ('Chicago', 1), ('', 1), ('San Carlos', 1), ('Santa Monica', 1), ('Lake Forest', 1), ('Baltimore', 1), ('Hopland', 1), ('San Rafael', 1), ('Murrieta', 1), ('Louisville', 1), ('Santa Cruz', 1), ('Merrimack', 1), ('Missoula', 1), ('Shanghai', 1), ('Boston', 1), ('Somers', 1), ('Phoenix', 1), ('Nashville', 1), ('Trabuco Canyon', 1), ('Ocala', 1)]\n"
     ]
    }
   ],
   "source": [
    "sorted_cities = sorted(city_count.items(), key=lambda x: x[1], reverse=True)\n",
    "print(sorted_cities)"
   ]
  },
  {
   "cell_type": "code",
   "execution_count": 473,
   "metadata": {},
   "outputs": [
    {
     "data": {
      "image/png": "[encoded data removed]",
      "text/plain": [
       "<Figure size 432x288 with 1 Axes>"
      ]
     },
     "metadata": {
      "needs_background": "light"
     },
     "output_type": "display_data"
    }
   ],
   "source": [
    "city_names = [city[0] for city in sorted_cities[:10]]\n",
    "startup_counts = [city[1] for city in sorted_cities[:10]]\n",
    "\n",
    "plt.bar(city_names, startup_counts, color=['red', 'red', 'red', 'orange', 'orange', 'orange', 'orange', 'orange', 'yellow', 'yellow'])\n",
    "plt.xlabel('City')\n",
    "plt.ylabel('Number of Successful Startups')\n",
    "plt.title('Startups by City')\n",
    "plt.xticks(rotation=45)\n",
    "plt.savefig(\"Images/Startups.png\")\n",
    "plt.show()"
   ]
  },
  {
   "cell_type": "code",
   "execution_count": 104,
   "metadata": {},
   "outputs": [
    {
     "data": {
      "text/plain": [
       "[{'name': 'Ecast',\n",
       "  'deadpooled_year': 2012,\n",
       "  'deadpooled_month': 2,\n",
       "  'offices': [{'city': 'San Francisco'}]},\n",
       " {'name': 'Shattered Reality Interactive',\n",
       "  'deadpooled_year': 2012,\n",
       "  'deadpooled_month': 7,\n",
       "  'offices': [{'city': 'San Francisco'}]},\n",
       " {'name': 'Shattered Reality Interactive',\n",
       "  'deadpooled_year': 2012,\n",
       "  'deadpooled_month': 7,\n",
       "  'offices': [{'city': 'San Francisco'}]},\n",
       " {'name': 'Lexy',\n",
       "  'deadpooled_year': 2011,\n",
       "  'deadpooled_month': 6,\n",
       "  'offices': [{'city': 'San Francisco'}]},\n",
       " {'name': 'DanceJam',\n",
       "  'deadpooled_year': 2011,\n",
       "  'deadpooled_month': None,\n",
       "  'offices': [{'city': 'San Francisco'}]}]"
      ]
     },
     "execution_count": 104,
     "metadata": {},
     "output_type": "execute_result"
    }
   ],
   "source": [
    "condition1= {\"category_code\":\"games_video\"}\n",
    "condition2= {\"offices.city\":\"San Francisco\"}\n",
    "projection = {\"_id\":0, \"name\":1, \"deadpooled_year\":1, \"deadpooled_month\":1, \"offices.city\":1}\n",
    "\n",
    "list(c.find({\"$and\": [condition1, condition2]}, projection).sort(\"deadpooled_year\",-1).limit(5))"
   ]
  },
  {
   "cell_type": "code",
   "execution_count": 105,
   "metadata": {},
   "outputs": [
    {
     "data": {
      "text/plain": [
       "[{'name': 'GameGround',\n",
       "  'deadpooled_year': 2012,\n",
       "  'deadpooled_month': 10,\n",
       "  'offices': [{'city': 'New York'}]},\n",
       " {'name': 'Robotgalaxy',\n",
       "  'deadpooled_year': 2012,\n",
       "  'deadpooled_month': 12,\n",
       "  'offices': [{'city': 'New York'}]},\n",
       " {'name': 'For Your Imagination',\n",
       "  'deadpooled_year': 2010,\n",
       "  'deadpooled_month': 2,\n",
       "  'offices': [{'city': 'New York'}]},\n",
       " {'name': 'SpiralFrog',\n",
       "  'deadpooled_year': 2009,\n",
       "  'deadpooled_month': 3,\n",
       "  'offices': [{'city': 'New York'}]},\n",
       " {'name': 'WeShow',\n",
       "  'deadpooled_year': 2008,\n",
       "  'deadpooled_month': 12,\n",
       "  'offices': [{'city': 'New York'}]}]"
      ]
     },
     "execution_count": 105,
     "metadata": {},
     "output_type": "execute_result"
    }
   ],
   "source": [
    "condition1= {\"category_code\":\"games_video\"}\n",
    "condition2= {\"offices.city\":\"New York\"}\n",
    "projection = {\"_id\":0, \"name\":1, \"deadpooled_year\":1, \"deadpooled_month\":1, \"offices.city\":1}\n",
    "\n",
    "list(c.find({\"$and\": [condition1, condition2]}, projection).sort(\"deadpooled_year\",-1).limit(5))"
   ]
  },
  {
   "cell_type": "code",
   "execution_count": 387,
   "metadata": {},
   "outputs": [
    {
     "data": {
      "text/plain": [
       "[{'name': 'Babelgum',\n",
       "  'deadpooled_year': 2013,\n",
       "  'deadpooled_month': 1,\n",
       "  'offices': [{'city': 'London'}]},\n",
       " {'name': 'World Reviewer',\n",
       "  'deadpooled_year': 2012,\n",
       "  'deadpooled_month': 1,\n",
       "  'offices': [{'city': 'London'}]},\n",
       " {'name': 'Zebtab',\n",
       "  'deadpooled_year': 2012,\n",
       "  'deadpooled_month': 2,\n",
       "  'offices': [{'city': 'London'}]},\n",
       " {'name': 'Pikum',\n",
       "  'deadpooled_year': 2009,\n",
       "  'deadpooled_month': 1,\n",
       "  'offices': [{'city': 'London'}]},\n",
       " {'name': 'Tioti',\n",
       "  'deadpooled_year': None,\n",
       "  'deadpooled_month': None,\n",
       "  'offices': [{'city': 'Seattle'}, {'city': 'London'}]}]"
      ]
     },
     "execution_count": 387,
     "metadata": {},
     "output_type": "execute_result"
    }
   ],
   "source": [
    "condition1= {\"category_code\":\"games_video\"}\n",
    "condition2= {\"offices.city\":\"London\"}\n",
    "projection = {\"_id\":0, \"name\":1, \"deadpooled_year\":1,\"deadpooled_month\":1, \"offices.city\":1}\n",
    "\n",
    "list(c.find({\"$and\": [condition1, condition2]}, projection).sort(\"deadpooled_year\",-1).limit(5))"
   ]
  },
  {
   "cell_type": "code",
   "execution_count": 113,
   "metadata": {},
   "outputs": [
    {
     "name": "stdout",
     "output_type": "stream",
     "text": [
      "37.783046 -122.394067\n"
     ]
    }
   ],
   "source": [
    "coordinate1=list(c.find({\"$and\":[{\"name\":\"Shattered Reality Interactive\"}, {\"offices.city\":\"San Francisco\"}]}, {\"_id\":0, \"offices.latitude\":1, \"offices.longitude\":1}).limit(1))\n",
    "#why is it repeated?\n",
    "lat1 = coordinate1[0]['offices'][0]['latitude']\n",
    "lon1 = coordinate1[0]['offices'][0]['longitude']\n",
    "print(lat1,lon1)"
   ]
  },
  {
   "cell_type": "code",
   "execution_count": 111,
   "metadata": {},
   "outputs": [
    {
     "name": "stdout",
     "output_type": "stream",
     "text": [
      "40.737216 -73.990947\n"
     ]
    }
   ],
   "source": [
    "coordinate2=list(c.find({\"$and\":[{\"name\":\"Robotgalaxy\"}, {\"offices.city\":\"New York\"}]}, {\"_id\":0, \"offices.latitude\":1, \"offices.longitude\":1}).limit(1))\n",
    "#why is it repeated?\n",
    "lat2 = coordinate2[0]['offices'][0]['latitude']\n",
    "lon2 = coordinate2[0]['offices'][0]['longitude']\n",
    "print(lat2, lon2)"
   ]
  },
  {
   "cell_type": "code",
   "execution_count": 389,
   "metadata": {},
   "outputs": [
    {
     "name": "stdout",
     "output_type": "stream",
     "text": [
      "51.539778 -0.152998\n"
     ]
    }
   ],
   "source": [
    "coordinate3=list(c.find({\"$and\":[{\"name\":\"Pikum\"}, {\"offices.city\":\"London\"}]}, {\"_id\":0, \"offices.latitude\":1, \"offices.longitude\":1}).limit(1))\n",
    "#why is it repeated?\n",
    "lat3 = coordinate3[0]['offices'][0]['latitude']\n",
    "lon3 = coordinate3[0]['offices'][0]['longitude']\n",
    "print(lat3, lon3)"
   ]
  },
  {
   "cell_type": "code",
   "execution_count": 184,
   "metadata": {},
   "outputs": [
    {
     "data": {
      "text/plain": [
       "<Response [200]>"
      ]
     },
     "execution_count": 184,
     "metadata": {},
     "output_type": "execute_result"
    }
   ],
   "source": [
    "url = \"https://api.foursquare.com/v3/places/search?query=Starbucks&near=37.783046%2C-122.394067&limit=1\"\n",
    "\n",
    "headers = {\n",
    "    \"accept\": \"application/json\",\n",
    "    \"Authorization\": (token)\n",
    "}\n",
    "\n",
    "response = requests.get(url, headers=headers)\n",
    "response"
   ]
  },
  {
   "cell_type": "code",
   "execution_count": 185,
   "metadata": {},
   "outputs": [
    {
     "data": {
      "text/plain": [
       "1"
      ]
     },
     "execution_count": 185,
     "metadata": {},
     "output_type": "execute_result"
    }
   ],
   "source": [
    "len(response.json()[\"results\"])"
   ]
  },
  {
   "cell_type": "code",
   "execution_count": 187,
   "metadata": {},
   "outputs": [
    {
     "data": {
      "text/plain": [
       "{'fsq_id': '5ce5da80e65d0c002c9ce011',\n",
       " 'categories': [{'id': 13035,\n",
       "   'name': 'Coffee Shop',\n",
       "   'icon': {'prefix': 'https://ss3.4sqi.net/img/categories_v2/food/coffeeshop_',\n",
       "    'suffix': '.png'}}],\n",
       " 'chains': [{'id': 'ab4c54c0-d68a-012e-5619-003048cad9da',\n",
       "   'name': 'Starbucks'}],\n",
       " 'distance': 579,\n",
       " 'geocodes': {'main': {'latitude': 37.788371, 'longitude': -122.393555}},\n",
       " 'link': '/v3/places/5ce5da80e65d0c002c9ce011',\n",
       " 'location': {'address': '299 Fremont St',\n",
       "  'census_block': '060750615071014',\n",
       "  'country': 'US',\n",
       "  'cross_street': 'Folsom St',\n",
       "  'dma': 'San Francisco-Oakland-San Jose',\n",
       "  'formatted_address': '299 Fremont St (Folsom St), San Francisco, CA 94105',\n",
       "  'locality': 'San Francisco',\n",
       "  'postcode': '94105',\n",
       "  'region': 'CA'},\n",
       " 'name': 'Starbucks',\n",
       " 'related_places': {'parent': {'fsq_id': '5792303d498e24d6d0730c6a',\n",
       "   'name': 'Solaire'}},\n",
       " 'timezone': 'America/Los_Angeles'}"
      ]
     },
     "execution_count": 187,
     "metadata": {},
     "output_type": "execute_result"
    }
   ],
   "source": [
    "coffe1=response.json()[\"results\"][0]\n",
    "coffe1"
   ]
  },
  {
   "cell_type": "code",
   "execution_count": 202,
   "metadata": {},
   "outputs": [
    {
     "data": {
      "text/plain": [
       "{'fsq_id': '5a910af8531593087467f78b',\n",
       " 'categories': [{'id': 19035,\n",
       "   'name': 'Airport Lounge',\n",
       "   'icon': {'prefix': 'https://ss3.4sqi.net/img/categories_v2/nightlife/default_',\n",
       "    'suffix': '.png'}}],\n",
       " 'chains': [],\n",
       " 'distance': 18435,\n",
       " 'geocodes': {'main': {'latitude': 37.617065, 'longitude': -122.389366},\n",
       "  'roof': {'latitude': 37.617065, 'longitude': -122.389366}},\n",
       " 'link': '/v3/places/5a910af8531593087467f78b',\n",
       " 'location': {'address': 'International Terminal G',\n",
       "  'census_block': '060819843001006',\n",
       "  'country': 'US',\n",
       "  'cross_street': 'SFO Airport',\n",
       "  'dma': 'San Francisco-Oakland-San Jose',\n",
       "  'formatted_address': 'International Terminal G (SFO Airport), San Francisco, CA 94128',\n",
       "  'locality': 'San Francisco',\n",
       "  'postcode': '94128',\n",
       "  'region': 'CA'},\n",
       " 'name': 'United Polaris Lounge',\n",
       " 'related_places': {'parent': {'fsq_id': '4e2f522a6365695b3b77c6cf',\n",
       "   'name': 'International Terminal G'},\n",
       "  'children': [{'fsq_id': '5c449f87e97dfb002cb4b0b9',\n",
       "    'name': 'Polaris Shower Suites'},\n",
       "   {'fsq_id': '5ae377354ac28a002c9bbd74', 'name': 'The Dining Room'},\n",
       "   {'fsq_id': '5ae38ec506fb60002cacd742', 'name': 'The Bar'}]},\n",
       " 'timezone': 'America/Los_Angeles'}"
      ]
     },
     "execution_count": 202,
     "metadata": {},
     "output_type": "execute_result"
    }
   ],
   "source": [
    "url = \"https://api.foursquare.com/v3/places/search?ll=37.783046%2C-122.394067&categories=19031&limit=1\"\n",
    "\n",
    "headers = {\n",
    "    \"accept\": \"application/json\",\n",
    "    \"Authorization\": (token)\n",
    "}\n",
    "\n",
    "response = requests.get(url, headers=headers)\n",
    "air1=response.json()[\"results\"][0]\n",
    "air1"
   ]
  },
  {
   "cell_type": "code",
   "execution_count": 205,
   "metadata": {},
   "outputs": [
    {
     "data": {
      "text/plain": [
       "{'fsq_id': '60cab8987b3c2b5b928f5981',\n",
       " 'categories': [{'id': 19042,\n",
       "   'name': 'Bus Station',\n",
       "   'icon': {'prefix': 'https://ss3.4sqi.net/img/categories_v2/travel/busstation_',\n",
       "    'suffix': '.png'}}],\n",
       " 'chains': [],\n",
       " 'distance': 668,\n",
       " 'geocodes': {'main': {'latitude': 37.78821, 'longitude': -122.397975}},\n",
       " 'link': '/v3/places/60cab8987b3c2b5b928f5981',\n",
       " 'location': {'census_block': '060750615011008',\n",
       "  'country': 'US',\n",
       "  'cross_street': '',\n",
       "  'dma': 'San Francisco-Oakland-San Jose',\n",
       "  'formatted_address': 'San Francisco, CA 94105',\n",
       "  'locality': 'San Francisco',\n",
       "  'postcode': '94105',\n",
       "  'region': 'CA'},\n",
       " 'name': 'Greyhound Bus - Salesforce Transit Center',\n",
       " 'related_places': {'parent': {'fsq_id': '5b65dcb9c9f907002cad58af',\n",
       "   'name': 'Salesforce Transit Center'}},\n",
       " 'timezone': 'America/Los_Angeles'}"
      ]
     },
     "execution_count": 205,
     "metadata": {},
     "output_type": "execute_result"
    }
   ],
   "source": [
    "\n",
    "url = \"https://api.foursquare.com/v3/places/search?ll=37.783046%2C-122.394067&categories=19046%2C19042&limit=1\"\n",
    "\n",
    "headers = {\n",
    "    \"accept\": \"application/json\",\n",
    "    \"Authorization\": (token)\n",
    "}\n",
    "\n",
    "response = requests.get(url, headers=headers)\n",
    "\n",
    "metro1=response.json()[\"results\"][0]\n",
    "metro1\n"
   ]
  },
  {
   "cell_type": "code",
   "execution_count": 214,
   "metadata": {},
   "outputs": [
    {
     "name": "stdout",
     "output_type": "stream",
     "text": [
      "1210 -122.40761 37.784783\n"
     ]
    }
   ],
   "source": [
    "\n",
    "url = \"https://api.foursquare.com/v3/places/search?ll=37.783046%2C-122.394067&categories=19047%2C19050&limit=1\"\n",
    "\n",
    "headers = {\n",
    "    \"accept\": \"application/json\",\n",
    "    \"Authorization\": (token)\n",
    "}\n",
    "\n",
    "response = requests.get(url, headers=headers)\n",
    "\n",
    "metro1=response.json()[\"results\"][0]\n",
    "distancemetro1=metro1[\"distance\"]\n",
    "lonmetro1 = metro1[\"geocodes\"][\"main\"][\"longitude\"]\n",
    "latmetro1 = metro1[\"geocodes\"][\"main\"][\"latitude\"]\n",
    "print(distancemetro1, lonmetro1, latmetro1)\n"
   ]
  },
  {
   "cell_type": "code",
   "execution_count": 196,
   "metadata": {},
   "outputs": [
    {
     "data": {
      "text/plain": [
       "{'fsq_id': '4bb28e3ca32876b0a8c800fe',\n",
       " 'categories': [{'id': 19047,\n",
       "   'name': 'Rail Station',\n",
       "   'icon': {'prefix': 'https://ss3.4sqi.net/img/categories_v2/travel/trainstation_',\n",
       "    'suffix': '.png'}}],\n",
       " 'chains': [],\n",
       " 'distance': 532,\n",
       " 'geocodes': {'main': {'latitude': 37.779346, 'longitude': -122.389798},\n",
       "  'roof': {'latitude': 37.779346, 'longitude': -122.389798}},\n",
       " 'link': '/v3/places/4bb28e3ca32876b0a8c800fe',\n",
       " 'location': {'address': 'King St',\n",
       "  'census_block': '060750607013001',\n",
       "  'country': 'US',\n",
       "  'cross_street': 'at 2nd St',\n",
       "  'dma': 'San Francisco-Oakland-San Jose',\n",
       "  'formatted_address': 'King St (at 2nd St), San Francisco, CA 94107',\n",
       "  'locality': 'San Francisco',\n",
       "  'postcode': '94107',\n",
       "  'region': 'CA'},\n",
       " 'name': '2nd & King MUNI Metro Station',\n",
       " 'related_places': {},\n",
       " 'timezone': 'America/Los_Angeles'}"
      ]
     },
     "execution_count": 196,
     "metadata": {},
     "output_type": "execute_result"
    }
   ],
   "source": [
    "url = \"https://api.foursquare.com/v3/places/search?ll=37.783046%2C-122.394067&categories=19047&limit=1\"\n",
    "\n",
    "headers = {\n",
    "    \"accept\": \"application/json\",\n",
    "    \"Authorization\": (token)\n",
    "}\n",
    "\n",
    "response = requests.get(url, headers=headers)\n",
    "rail1=response.json()[\"results\"][0]\n",
    "rail1"
   ]
  },
  {
   "cell_type": "code",
   "execution_count": 139,
   "metadata": {},
   "outputs": [
    {
     "data": {
      "text/plain": [
       "<Response [200]>"
      ]
     },
     "execution_count": 139,
     "metadata": {},
     "output_type": "execute_result"
    }
   ],
   "source": [
    "url = \"https://api.foursquare.com/v3/places/search?query=Starbucks&near=40.737216%2C-73.990947&limit=1\"\n",
    "\n",
    "headers = {\n",
    "    \"accept\": \"application/json\",\n",
    "    \"Authorization\": (token)\n",
    "}\n",
    "\n",
    "response = requests.get(url, headers=headers)\n",
    "response"
   ]
  },
  {
   "cell_type": "code",
   "execution_count": 189,
   "metadata": {},
   "outputs": [
    {
     "data": {
      "text/plain": [
       "<Response [200]>"
      ]
     },
     "execution_count": 189,
     "metadata": {},
     "output_type": "execute_result"
    }
   ],
   "source": [
    "url = \"https://api.foursquare.com/v3/places/search?ll=40.737216%2C-73.990947&categories=19031&limit=1\"\n",
    "\n",
    "headers = {\n",
    "    \"accept\": \"application/json\",\n",
    "    \"Authorization\": (token)\n",
    "}\n",
    "\n",
    "response = requests.get(url, headers=headers)\n",
    "response"
   ]
  },
  {
   "cell_type": "code",
   "execution_count": 294,
   "metadata": {},
   "outputs": [
    {
     "name": "stdout",
     "output_type": "stream",
     "text": [
      "1210 -122.40761 37.784783\n"
     ]
    }
   ],
   "source": [
    "url = \"https://api.foursquare.com/v3/places/search?ll=37.783046%2C-122.394067&categories=19047%2C19050&limit=1\"\n",
    "\n",
    "headers = {\n",
    "    \"accept\": \"application/json\",\n",
    "    \"Authorization\": (token)\n",
    "}\n",
    "\n",
    "response = requests.get(url, headers=headers)\n",
    "\n",
    "metro1=response.json()[\"results\"][0]\n",
    "distancemetro1=metro1[\"distance\"]\n",
    "lonmetro1 = metro1[\"geocodes\"][\"main\"][\"longitude\"]\n",
    "latmetro1 = metro1[\"geocodes\"][\"main\"][\"latitude\"]\n",
    "print(distancemetro1, lonmetro1, latmetro1)"
   ]
  },
  {
   "cell_type": "code",
   "execution_count": 454,
   "metadata": {},
   "outputs": [
    {
     "data": {
      "text/plain": [
       "10"
      ]
     },
     "execution_count": 454,
     "metadata": {},
     "output_type": "execute_result"
    }
   ],
   "source": [
    "url = f\"https://api.foursquare.com/v3/places/search?ll={lat1}%2C{lon1}&radius=300&categories=13003&limit=50\"\n",
    "\n",
    "headers = {\n",
    "    \"accept\": \"application/json\",\n",
    "    \"Authorization\": (token)\n",
    "}\n",
    "\n",
    "response = requests.get(url, headers=headers)\n",
    "bars=response.json()\n",
    "num_bars = len(bars['results'])\n",
    "num_bars\n"
   ]
  },
  {
   "cell_type": "code",
   "execution_count": 463,
   "metadata": {},
   "outputs": [
    {
     "data": {
      "image/png": "[encoded data removed]",
      "text/plain": [
       "<Figure size 432x288 with 1 Axes>"
      ]
     },
     "metadata": {
      "needs_background": "light"
     },
     "output_type": "display_data"
    }
   ],
   "source": [
    "data = {\"San Francisco\": {\"Bars in 300 meters\": 10, \"Design companies in 1 km\": 3},\n",
    "        \"New York\": {\"Bars in 300 meters\": 30, \"Design companies in 1 km\": 28},\n",
    "        \"London\": {\"Bars in 300 meters\": 5, \"Design companies in 1 km\": 0}}\n",
    "\n",
    "df = pd.DataFrame.from_dict(data, orient='index')\n",
    "df = df.reset_index().melt(id_vars='index')\n",
    "df.columns = ['City', 'Type', 'Count']\n",
    "\n",
    "sns.barplot(x='City', y='Count', hue='Type', data=df)\n",
    "plt.xticks(rotation=45)\n",
    "plt.xlabel(\"City\")\n",
    "plt.savefig(\"Images/Step2.png\")\n",
    "plt.show()"
   ]
  },
  {
   "cell_type": "code",
   "execution_count": 449,
   "metadata": {},
   "outputs": [
    {
     "data": {
      "text/plain": [
       "3"
      ]
     },
     "execution_count": 449,
     "metadata": {},
     "output_type": "execute_result"
    }
   ],
   "source": [
    "url = f\"https://api.foursquare.com/v3/places/search?ll={lat1}%2C{lon1}&radius=1000&categories=11030&limit=50\"\n",
    "\n",
    "headers = {\n",
    "    \"accept\": \"application/json\",\n",
    "    \"Authorization\": (token)\n",
    "}\n",
    "\n",
    "response = requests.get(url, headers=headers)\n",
    "dessign=response.json()\n",
    "num_dessign = len(dessign['results'])\n",
    "num_dessign"
   ]
  },
  {
   "cell_type": "code",
   "execution_count": 419,
   "metadata": {},
   "outputs": [],
   "source": [
    "def distances (lat,lon):\n",
    "    headers = {\n",
    "    \"accept\": \"application/json\",\n",
    "    \"Authorization\": (token)\n",
    "    }\n",
    "    #count bars\n",
    "\n",
    "    #url = \"https://api.foursquare.com/v3/places/search?ll={lat}%2C{lon}&radius=500&categories=13003&limit=50\"\n",
    "    #response=requests.get(url, headers=headers).json()\n",
    "    #bars=len(response['results'][0])\n",
    "\n",
    "    #metro distance\n",
    "    url = f\"https://api.foursquare.com/v3/places/search?ll={lat}%2C{lon}&categories=19046%2C19042&limit=1\"\n",
    "    response = requests.get(url, headers=headers)\n",
    "    metro=response.json()[\"results\"][0]\n",
    "    metro=metro[\"distance\"]\n",
    "    #train distance\n",
    "    url = f\"https://api.foursquare.com/v3/places/search?ll={lat}%2C{lon}&categories=19047%2C19050&limit=1\"\n",
    "    response = requests.get(url, headers=headers)\n",
    "    rail=response.json()[\"results\"][0]\n",
    "    rail=rail[\"distance\"]\n",
    "    #airport distance\n",
    "    url = f\"https://api.foursquare.com/v3/places/search?ll={lat}%2C{lon}&categories=19031&limit=1\"\n",
    "    response = requests.get(url, headers=headers)\n",
    "    plane=response.json()[\"results\"][0]\n",
    "    plane=plane[\"distance\"]\n",
    "    #count design\n",
    "    #url = \"https://api.foursquare.com/v3/places/search?ll={lat}%2C{lon}&radius=1000&categories=11030&limit=50\"\n",
    "    #response=requests.get(url, headers=headers).json()\n",
    "    #design=len(response['results'][0])\n",
    "    #school distance\n",
    "    url = f\"https://api.foursquare.com/v3/places/search?ll={lat}%2C{lon}&categories=12057&limit=1\"\n",
    "    response = requests.get(url, headers=headers)\n",
    "    school=response.json()[\"results\"][0]\n",
    "    school=school[\"distance\"]\n",
    "    #kindergarten distance\n",
    "    url = f\"https://api.foursquare.com/v3/places/search?ll={lat}%2C{lon}&categories=12056&limit=1\"\n",
    "    response = requests.get(url, headers=headers)\n",
    "    kids=response.json()[\"results\"][0]\n",
    "    kids=kids[\"distance\"]\n",
    "    #starbucks distance\n",
    "    url = f\"https://api.foursquare.com/v3/places/search?query=Starbucks&near={lat}%2C{lon}&limit=1\"\n",
    "    response = requests.get(url, headers=headers)\n",
    "    coffee=response.json()[\"results\"][0]\n",
    "    coffee=coffee[\"distance\"]\n",
    "    #vegan restaurants\n",
    "    url = f\"https://api.foursquare.com/v3/places/search?ll={lat}%2C{lon}&categories=13377&limit=1\"\n",
    "    response = requests.get(url, headers=headers)\n",
    "    vegan=response.json()[\"results\"][0]\n",
    "    vegan=vegan[\"distance\"]\n",
    "    #basket stadium\n",
    "    url = f\"https://api.foursquare.com/v3/places/search?ll={lat}%2C{lon}&categories=18006&limit=1\"\n",
    "    response = requests.get(url, headers=headers)\n",
    "    basket=response.json()[\"results\"][0]\n",
    "    basket=basket[\"distance\"]\n",
    "    return {\"Metro/Bus\":metro,\"Train/Tram\": rail,\"Airport\": plane, \"School\":school, \"Kindergarten\":kids, \"Starbucks\":coffee, \"Vegan\":vegan, \"Stadium\":basket}"
   ]
  },
  {
   "cell_type": "code",
   "execution_count": 420,
   "metadata": {},
   "outputs": [
    {
     "data": {
      "text/plain": [
       "{'Metro/Bus': 668,\n",
       " 'Train/Tram': 1210,\n",
       " 'Airport': 18435,\n",
       " 'School': 3861,\n",
       " 'Kindergarten': 2032,\n",
       " 'Starbucks': 579,\n",
       " 'Vegan': 616,\n",
       " 'Stadium': 1283}"
      ]
     },
     "execution_count": 420,
     "metadata": {},
     "output_type": "execute_result"
    }
   ],
   "source": [
    "sfdistance=distances(lat1,lon1)\n",
    "sfdistance"
   ]
  },
  {
   "cell_type": "code",
   "execution_count": 421,
   "metadata": {},
   "outputs": [
    {
     "data": {
      "text/plain": [
       "{'Metro/Bus': 500,\n",
       " 'Train/Tram': 1576,\n",
       " 'Airport': 1652,\n",
       " 'School': 4123,\n",
       " 'Kindergarten': 3557,\n",
       " 'Starbucks': 1288,\n",
       " 'Vegan': 96,\n",
       " 'Stadium': 1100}"
      ]
     },
     "execution_count": 421,
     "metadata": {},
     "output_type": "execute_result"
    }
   ],
   "source": [
    "nydistance=distances(lat2,lon2)\n",
    "nydistance"
   ]
  },
  {
   "cell_type": "code",
   "execution_count": 422,
   "metadata": {},
   "outputs": [
    {
     "data": {
      "text/plain": [
       "{'Metro/Bus': 2062,\n",
       " 'Train/Tram': 2185,\n",
       " 'Airport': 22521,\n",
       " 'School': 6651,\n",
       " 'Kindergarten': 5384,\n",
       " 'Starbucks': 916,\n",
       " 'Vegan': 574,\n",
       " 'Stadium': 1192}"
      ]
     },
     "execution_count": 422,
     "metadata": {},
     "output_type": "execute_result"
    }
   ],
   "source": [
    "londistance=distances(lat3,lon3)\n",
    "londistance"
   ]
  },
  {
   "cell_type": "code",
   "execution_count": 474,
   "metadata": {},
   "outputs": [
    {
     "data": {
      "text/html": [
       "<div>\n",
       "<style scoped>\n",
       "    .dataframe tbody tr th:only-of-type {\n",
       "        vertical-align: middle;\n",
       "    }\n",
       "\n",
       "    .dataframe tbody tr th {\n",
       "        vertical-align: top;\n",
       "    }\n",
       "\n",
       "    .dataframe thead th {\n",
       "        text-align: right;\n",
       "    }\n",
       "</style>\n",
       "<table border=\"1\" class=\"dataframe\">\n",
       "  <thead>\n",
       "    <tr style=\"text-align: right;\">\n",
       "      <th>Distance</th>\n",
       "      <th>Metro/Bus</th>\n",
       "      <th>Train/Tram</th>\n",
       "      <th>Airport</th>\n",
       "      <th>School</th>\n",
       "      <th>Kindergarten</th>\n",
       "      <th>Starbucks</th>\n",
       "      <th>Vegan</th>\n",
       "      <th>Stadium</th>\n",
       "    </tr>\n",
       "    <tr>\n",
       "      <th>City</th>\n",
       "      <th></th>\n",
       "      <th></th>\n",
       "      <th></th>\n",
       "      <th></th>\n",
       "      <th></th>\n",
       "      <th></th>\n",
       "      <th></th>\n",
       "      <th></th>\n",
       "    </tr>\n",
       "  </thead>\n",
       "  <tbody>\n",
       "    <tr>\n",
       "      <th>San Francisco</th>\n",
       "      <td>668</td>\n",
       "      <td>1210</td>\n",
       "      <td>18435</td>\n",
       "      <td>3861</td>\n",
       "      <td>2032</td>\n",
       "      <td>579</td>\n",
       "      <td>616</td>\n",
       "      <td>1283</td>\n",
       "    </tr>\n",
       "    <tr>\n",
       "      <th>New York</th>\n",
       "      <td>500</td>\n",
       "      <td>1576</td>\n",
       "      <td>1652</td>\n",
       "      <td>4123</td>\n",
       "      <td>3557</td>\n",
       "      <td>1288</td>\n",
       "      <td>96</td>\n",
       "      <td>1100</td>\n",
       "    </tr>\n",
       "    <tr>\n",
       "      <th>London</th>\n",
       "      <td>2062</td>\n",
       "      <td>2185</td>\n",
       "      <td>22521</td>\n",
       "      <td>6651</td>\n",
       "      <td>5384</td>\n",
       "      <td>916</td>\n",
       "      <td>574</td>\n",
       "      <td>1192</td>\n",
       "    </tr>\n",
       "  </tbody>\n",
       "</table>\n",
       "</div>"
      ],
      "text/plain": [
       "Distance       Metro/Bus  Train/Tram  Airport  School  Kindergarten  \\\n",
       "City                                                                  \n",
       "San Francisco        668        1210    18435    3861          2032   \n",
       "New York             500        1576     1652    4123          3557   \n",
       "London              2062        2185    22521    6651          5384   \n",
       "\n",
       "Distance       Starbucks  Vegan  Stadium  \n",
       "City                                      \n",
       "San Francisco        579    616     1283  \n",
       "New York            1288     96     1100  \n",
       "London               916    574     1192  "
      ]
     },
     "execution_count": 474,
     "metadata": {},
     "output_type": "execute_result"
    }
   ],
   "source": [
    "data = {'San Francisco': sfdistance, 'New York': nydistance, 'London': londistance}\n",
    "df = pd.DataFrame(data)\n",
    "df = df.transpose()\n",
    "df.index.name = 'City'\n",
    "df.columns.name = 'Distance'\n",
    "df"
   ]
  },
  {
   "cell_type": "code",
   "execution_count": 424,
   "metadata": {},
   "outputs": [],
   "source": [
    "df2=df.copy()"
   ]
  },
  {
   "cell_type": "code",
   "execution_count": 426,
   "metadata": {},
   "outputs": [
    {
     "data": {
      "text/html": [
       "<div>\n",
       "<style scoped>\n",
       "    .dataframe tbody tr th:only-of-type {\n",
       "        vertical-align: middle;\n",
       "    }\n",
       "\n",
       "    .dataframe tbody tr th {\n",
       "        vertical-align: top;\n",
       "    }\n",
       "\n",
       "    .dataframe thead th {\n",
       "        text-align: right;\n",
       "    }\n",
       "</style>\n",
       "<table border=\"1\" class=\"dataframe\">\n",
       "  <thead>\n",
       "    <tr style=\"text-align: right;\">\n",
       "      <th>Distance</th>\n",
       "      <th>Metro/Bus</th>\n",
       "      <th>Train/Tram</th>\n",
       "      <th>Airport</th>\n",
       "      <th>School</th>\n",
       "      <th>Kindergarten</th>\n",
       "      <th>Starbucks</th>\n",
       "      <th>Vegan</th>\n",
       "      <th>Stadium</th>\n",
       "      <th>People</th>\n",
       "    </tr>\n",
       "    <tr>\n",
       "      <th>City</th>\n",
       "      <th></th>\n",
       "      <th></th>\n",
       "      <th></th>\n",
       "      <th></th>\n",
       "      <th></th>\n",
       "      <th></th>\n",
       "      <th></th>\n",
       "      <th></th>\n",
       "      <th></th>\n",
       "    </tr>\n",
       "  </thead>\n",
       "  <tbody>\n",
       "    <tr>\n",
       "      <th>San Francisco</th>\n",
       "      <td>668</td>\n",
       "      <td>1210</td>\n",
       "      <td>18435</td>\n",
       "      <td>3861</td>\n",
       "      <td>2032</td>\n",
       "      <td>579</td>\n",
       "      <td>616</td>\n",
       "      <td>1283</td>\n",
       "      <td>3158.147835</td>\n",
       "    </tr>\n",
       "    <tr>\n",
       "      <th>New York</th>\n",
       "      <td>500</td>\n",
       "      <td>1576</td>\n",
       "      <td>1652</td>\n",
       "      <td>4123</td>\n",
       "      <td>3557</td>\n",
       "      <td>1288</td>\n",
       "      <td>96</td>\n",
       "      <td>1100</td>\n",
       "      <td>1766.828571</td>\n",
       "    </tr>\n",
       "    <tr>\n",
       "      <th>London</th>\n",
       "      <td>2062</td>\n",
       "      <td>2185</td>\n",
       "      <td>22521</td>\n",
       "      <td>6651</td>\n",
       "      <td>5384</td>\n",
       "      <td>916</td>\n",
       "      <td>574</td>\n",
       "      <td>1192</td>\n",
       "      <td>3559.801515</td>\n",
       "    </tr>\n",
       "  </tbody>\n",
       "</table>\n",
       "</div>"
      ],
      "text/plain": [
       "Distance       Metro/Bus  Train/Tram  Airport  School  Kindergarten  \\\n",
       "City                                                                  \n",
       "San Francisco        668        1210    18435    3861          2032   \n",
       "New York             500        1576     1652    4123          3557   \n",
       "London              2062        2185    22521    6651          5384   \n",
       "\n",
       "Distance       Starbucks  Vegan  Stadium       People  \n",
       "City                                                   \n",
       "San Francisco        579    616     1283  3158.147835  \n",
       "New York            1288     96     1100  1766.828571  \n",
       "London               916    574     1192  3559.801515  "
      ]
     },
     "execution_count": 426,
     "metadata": {},
     "output_type": "execute_result"
    }
   ],
   "source": [
    "df2[\"People\"]=(df2[\"Metro/Bus\"]/77 + df2[\"Train/Tram\"]/77 + df2[\"Airport\"]/20 + df2[\"School\"]/(0.3*77) + df2[\"Kindergarten\"]/(0.3*77) + df2[\"Starbucks\"]/10 + df2[\"Vegan\"] + df2[\"Stadium\"])\n",
    "df2"
   ]
  },
  {
   "cell_type": "code",
   "execution_count": 485,
   "metadata": {},
   "outputs": [
    {
     "data": {
      "text/html": [
       "<div>\n",
       "<style scoped>\n",
       "    .dataframe tbody tr th:only-of-type {\n",
       "        vertical-align: middle;\n",
       "    }\n",
       "\n",
       "    .dataframe tbody tr th {\n",
       "        vertical-align: top;\n",
       "    }\n",
       "\n",
       "    .dataframe thead th {\n",
       "        text-align: right;\n",
       "    }\n",
       "</style>\n",
       "<table border=\"1\" class=\"dataframe\">\n",
       "  <thead>\n",
       "    <tr style=\"text-align: right;\">\n",
       "      <th>Distance</th>\n",
       "      <th>Metro/Bus</th>\n",
       "      <th>Train/Tram</th>\n",
       "      <th>Airport</th>\n",
       "      <th>School</th>\n",
       "      <th>Kindergarten</th>\n",
       "      <th>Starbucks</th>\n",
       "      <th>Vegan</th>\n",
       "      <th>Stadium</th>\n",
       "      <th>People</th>\n",
       "      <th>Heriarchy</th>\n",
       "      <th>Importance</th>\n",
       "      <th>Combo</th>\n",
       "    </tr>\n",
       "    <tr>\n",
       "      <th>City</th>\n",
       "      <th></th>\n",
       "      <th></th>\n",
       "      <th></th>\n",
       "      <th></th>\n",
       "      <th></th>\n",
       "      <th></th>\n",
       "      <th></th>\n",
       "      <th></th>\n",
       "      <th></th>\n",
       "      <th></th>\n",
       "      <th></th>\n",
       "      <th></th>\n",
       "    </tr>\n",
       "  </thead>\n",
       "  <tbody>\n",
       "    <tr>\n",
       "      <th>San Francisco</th>\n",
       "      <td>668</td>\n",
       "      <td>1210</td>\n",
       "      <td>18435</td>\n",
       "      <td>3861</td>\n",
       "      <td>2032</td>\n",
       "      <td>579</td>\n",
       "      <td>616</td>\n",
       "      <td>1283</td>\n",
       "      <td>3158.147835</td>\n",
       "      <td>69982</td>\n",
       "      <td>12027.9</td>\n",
       "      <td>4799.951429</td>\n",
       "    </tr>\n",
       "    <tr>\n",
       "      <th>New York</th>\n",
       "      <td>500</td>\n",
       "      <td>1576</td>\n",
       "      <td>1652</td>\n",
       "      <td>4123</td>\n",
       "      <td>3557</td>\n",
       "      <td>1288</td>\n",
       "      <td>96</td>\n",
       "      <td>1100</td>\n",
       "      <td>1766.828571</td>\n",
       "      <td>21784</td>\n",
       "      <td>5874.6</td>\n",
       "      <td>3101.060087</td>\n",
       "    </tr>\n",
       "    <tr>\n",
       "      <th>London</th>\n",
       "      <td>2062</td>\n",
       "      <td>2185</td>\n",
       "      <td>22521</td>\n",
       "      <td>6651</td>\n",
       "      <td>5384</td>\n",
       "      <td>916</td>\n",
       "      <td>574</td>\n",
       "      <td>1192</td>\n",
       "      <td>3559.801515</td>\n",
       "      <td>91019</td>\n",
       "      <td>16497.3</td>\n",
       "      <td>4946.016364</td>\n",
       "    </tr>\n",
       "  </tbody>\n",
       "</table>\n",
       "</div>"
      ],
      "text/plain": [
       "Distance       Metro/Bus  Train/Tram  Airport  School  Kindergarten  \\\n",
       "City                                                                  \n",
       "San Francisco        668        1210    18435    3861          2032   \n",
       "New York             500        1576     1652    4123          3557   \n",
       "London              2062        2185    22521    6651          5384   \n",
       "\n",
       "Distance       Starbucks  Vegan  Stadium       People  Heriarchy  Importance  \\\n",
       "City                                                                           \n",
       "San Francisco        579    616     1283  3158.147835      69982     12027.9   \n",
       "New York            1288     96     1100  1766.828571      21784      5874.6   \n",
       "London               916    574     1192  3559.801515      91019     16497.3   \n",
       "\n",
       "Distance             Combo  \n",
       "City                        \n",
       "San Francisco  4799.951429  \n",
       "New York       3101.060087  \n",
       "London         4946.016364  "
      ]
     },
     "execution_count": 485,
     "metadata": {},
     "output_type": "execute_result"
    }
   ],
   "source": [
    "df2[\"Heriarchy\"]=(df2[\"Metro/Bus\"] + df2[\"Train/Tram\"] + df2[\"Airport\"]*3 + df2[\"School\"] + df2[\"Kindergarten\"] + df2[\"Starbucks\"]*2 + df2[\"Vegan\"] + df2[\"Stadium\"]*4)\n",
    "df2"
   ]
  },
  {
   "cell_type": "code",
   "execution_count": 486,
   "metadata": {},
   "outputs": [
    {
     "data": {
      "text/html": [
       "<div>\n",
       "<style scoped>\n",
       "    .dataframe tbody tr th:only-of-type {\n",
       "        vertical-align: middle;\n",
       "    }\n",
       "\n",
       "    .dataframe tbody tr th {\n",
       "        vertical-align: top;\n",
       "    }\n",
       "\n",
       "    .dataframe thead th {\n",
       "        text-align: right;\n",
       "    }\n",
       "</style>\n",
       "<table border=\"1\" class=\"dataframe\">\n",
       "  <thead>\n",
       "    <tr style=\"text-align: right;\">\n",
       "      <th>Distance</th>\n",
       "      <th>Metro/Bus</th>\n",
       "      <th>Train/Tram</th>\n",
       "      <th>Airport</th>\n",
       "      <th>School</th>\n",
       "      <th>Kindergarten</th>\n",
       "      <th>Starbucks</th>\n",
       "      <th>Vegan</th>\n",
       "      <th>Stadium</th>\n",
       "      <th>People</th>\n",
       "      <th>Heriarchy</th>\n",
       "      <th>Importance</th>\n",
       "      <th>Combo</th>\n",
       "    </tr>\n",
       "    <tr>\n",
       "      <th>City</th>\n",
       "      <th></th>\n",
       "      <th></th>\n",
       "      <th></th>\n",
       "      <th></th>\n",
       "      <th></th>\n",
       "      <th></th>\n",
       "      <th></th>\n",
       "      <th></th>\n",
       "      <th></th>\n",
       "      <th></th>\n",
       "      <th></th>\n",
       "      <th></th>\n",
       "    </tr>\n",
       "  </thead>\n",
       "  <tbody>\n",
       "    <tr>\n",
       "      <th>San Francisco</th>\n",
       "      <td>668</td>\n",
       "      <td>1210</td>\n",
       "      <td>18435</td>\n",
       "      <td>3861</td>\n",
       "      <td>2032</td>\n",
       "      <td>579</td>\n",
       "      <td>616</td>\n",
       "      <td>1283</td>\n",
       "      <td>3158.147835</td>\n",
       "      <td>69982</td>\n",
       "      <td>12027.9</td>\n",
       "      <td>4799.951429</td>\n",
       "    </tr>\n",
       "    <tr>\n",
       "      <th>New York</th>\n",
       "      <td>500</td>\n",
       "      <td>1576</td>\n",
       "      <td>1652</td>\n",
       "      <td>4123</td>\n",
       "      <td>3557</td>\n",
       "      <td>1288</td>\n",
       "      <td>96</td>\n",
       "      <td>1100</td>\n",
       "      <td>1766.828571</td>\n",
       "      <td>21784</td>\n",
       "      <td>5874.6</td>\n",
       "      <td>3101.060087</td>\n",
       "    </tr>\n",
       "    <tr>\n",
       "      <th>London</th>\n",
       "      <td>2062</td>\n",
       "      <td>2185</td>\n",
       "      <td>22521</td>\n",
       "      <td>6651</td>\n",
       "      <td>5384</td>\n",
       "      <td>916</td>\n",
       "      <td>574</td>\n",
       "      <td>1192</td>\n",
       "      <td>3559.801515</td>\n",
       "      <td>91019</td>\n",
       "      <td>16497.3</td>\n",
       "      <td>4946.016364</td>\n",
       "    </tr>\n",
       "  </tbody>\n",
       "</table>\n",
       "</div>"
      ],
      "text/plain": [
       "Distance       Metro/Bus  Train/Tram  Airport  School  Kindergarten  \\\n",
       "City                                                                  \n",
       "San Francisco        668        1210    18435    3861          2032   \n",
       "New York             500        1576     1652    4123          3557   \n",
       "London              2062        2185    22521    6651          5384   \n",
       "\n",
       "Distance       Starbucks  Vegan  Stadium       People  Heriarchy  Importance  \\\n",
       "City                                                                           \n",
       "San Francisco        579    616     1283  3158.147835      69982     12027.9   \n",
       "New York            1288     96     1100  1766.828571      21784      5874.6   \n",
       "London               916    574     1192  3559.801515      91019     16497.3   \n",
       "\n",
       "Distance             Combo  \n",
       "City                        \n",
       "San Francisco  4799.951429  \n",
       "New York       3101.060087  \n",
       "London         4946.016364  "
      ]
     },
     "execution_count": 486,
     "metadata": {},
     "output_type": "execute_result"
    }
   ],
   "source": [
    "df2[\"Importance\"]=(df2[\"Metro/Bus\"]*0.1 + df2[\"Train/Tram\"]*0.2 + df2[\"Airport\"]*0.4 + df2[\"School\"]*0.5 + df2[\"Kindergarten\"]*0.3 + df2[\"Starbucks\"]*0.6 + df2[\"Vegan\"]*0.7 + df2[\"Stadium\"]*0.8)\n",
    "df2"
   ]
  },
  {
   "cell_type": "code",
   "execution_count": 487,
   "metadata": {},
   "outputs": [
    {
     "data": {
      "text/html": [
       "<div>\n",
       "<style scoped>\n",
       "    .dataframe tbody tr th:only-of-type {\n",
       "        vertical-align: middle;\n",
       "    }\n",
       "\n",
       "    .dataframe tbody tr th {\n",
       "        vertical-align: top;\n",
       "    }\n",
       "\n",
       "    .dataframe thead th {\n",
       "        text-align: right;\n",
       "    }\n",
       "</style>\n",
       "<table border=\"1\" class=\"dataframe\">\n",
       "  <thead>\n",
       "    <tr style=\"text-align: right;\">\n",
       "      <th>Distance</th>\n",
       "      <th>Metro/Bus</th>\n",
       "      <th>Train/Tram</th>\n",
       "      <th>Airport</th>\n",
       "      <th>School</th>\n",
       "      <th>Kindergarten</th>\n",
       "      <th>Starbucks</th>\n",
       "      <th>Vegan</th>\n",
       "      <th>Stadium</th>\n",
       "      <th>People</th>\n",
       "      <th>Heriarchy</th>\n",
       "      <th>Importance</th>\n",
       "      <th>Combo</th>\n",
       "    </tr>\n",
       "    <tr>\n",
       "      <th>City</th>\n",
       "      <th></th>\n",
       "      <th></th>\n",
       "      <th></th>\n",
       "      <th></th>\n",
       "      <th></th>\n",
       "      <th></th>\n",
       "      <th></th>\n",
       "      <th></th>\n",
       "      <th></th>\n",
       "      <th></th>\n",
       "      <th></th>\n",
       "      <th></th>\n",
       "    </tr>\n",
       "  </thead>\n",
       "  <tbody>\n",
       "    <tr>\n",
       "      <th>San Francisco</th>\n",
       "      <td>668</td>\n",
       "      <td>1210</td>\n",
       "      <td>18435</td>\n",
       "      <td>3861</td>\n",
       "      <td>2032</td>\n",
       "      <td>579</td>\n",
       "      <td>616</td>\n",
       "      <td>1283</td>\n",
       "      <td>3158.147835</td>\n",
       "      <td>69982</td>\n",
       "      <td>12027.9</td>\n",
       "      <td>5826.351429</td>\n",
       "    </tr>\n",
       "    <tr>\n",
       "      <th>New York</th>\n",
       "      <td>500</td>\n",
       "      <td>1576</td>\n",
       "      <td>1652</td>\n",
       "      <td>4123</td>\n",
       "      <td>3557</td>\n",
       "      <td>1288</td>\n",
       "      <td>96</td>\n",
       "      <td>1100</td>\n",
       "      <td>1766.828571</td>\n",
       "      <td>21784</td>\n",
       "      <td>5874.6</td>\n",
       "      <td>3981.060087</td>\n",
       "    </tr>\n",
       "    <tr>\n",
       "      <th>London</th>\n",
       "      <td>2062</td>\n",
       "      <td>2185</td>\n",
       "      <td>22521</td>\n",
       "      <td>6651</td>\n",
       "      <td>5384</td>\n",
       "      <td>916</td>\n",
       "      <td>574</td>\n",
       "      <td>1192</td>\n",
       "      <td>3559.801515</td>\n",
       "      <td>91019</td>\n",
       "      <td>16497.3</td>\n",
       "      <td>5899.616364</td>\n",
       "    </tr>\n",
       "  </tbody>\n",
       "</table>\n",
       "</div>"
      ],
      "text/plain": [
       "Distance       Metro/Bus  Train/Tram  Airport  School  Kindergarten  \\\n",
       "City                                                                  \n",
       "San Francisco        668        1210    18435    3861          2032   \n",
       "New York             500        1576     1652    4123          3557   \n",
       "London              2062        2185    22521    6651          5384   \n",
       "\n",
       "Distance       Starbucks  Vegan  Stadium       People  Heriarchy  Importance  \\\n",
       "City                                                                           \n",
       "San Francisco        579    616     1283  3158.147835      69982     12027.9   \n",
       "New York            1288     96     1100  1766.828571      21784      5874.6   \n",
       "London               916    574     1192  3559.801515      91019     16497.3   \n",
       "\n",
       "Distance             Combo  \n",
       "City                        \n",
       "San Francisco  5826.351429  \n",
       "New York       3981.060087  \n",
       "London         5899.616364  "
      ]
     },
     "execution_count": 487,
     "metadata": {},
     "output_type": "execute_result"
    }
   ],
   "source": [
    "df2[\"Combo\"]=(df2[\"Metro/Bus\"]/77*0.1 + df2[\"Train/Tram\"]/77*0.2 + df2[\"Airport\"]/20*3*0.4 + df2[\"School\"]/(0.3*77)*0.5 + df2[\"Kindergarten\"]/(0.3*77)*0.3 + df2[\"Starbucks\"]/10*2*0.6 + df2[\"Vegan\"]*0.7 + df2[\"Stadium\"]*4*0.8)\n",
    "df2"
   ]
  },
  {
   "cell_type": "code",
   "execution_count": 431,
   "metadata": {},
   "outputs": [
    {
     "name": "stderr",
     "output_type": "stream",
     "text": [
      "C:\\Users\\gqsal\\AppData\\Local\\Temp\\ipykernel_20504\\3111373745.py:6: FutureWarning: iteritems is deprecated and will be removed in a future version. Use .items instead.\n",
      "  for j, value in row.iteritems():\n",
      "C:\\Users\\gqsal\\AppData\\Local\\Temp\\ipykernel_20504\\3111373745.py:6: FutureWarning: iteritems is deprecated and will be removed in a future version. Use .items instead.\n",
      "  for j, value in row.iteritems():\n",
      "C:\\Users\\gqsal\\AppData\\Local\\Temp\\ipykernel_20504\\3111373745.py:6: FutureWarning: iteritems is deprecated and will be removed in a future version. Use .items instead.\n",
      "  for j, value in row.iteritems():\n"
     ]
    },
    {
     "data": {
      "text/html": [
       "<div>\n",
       "<style scoped>\n",
       "    .dataframe tbody tr th:only-of-type {\n",
       "        vertical-align: middle;\n",
       "    }\n",
       "\n",
       "    .dataframe tbody tr th {\n",
       "        vertical-align: top;\n",
       "    }\n",
       "\n",
       "    .dataframe thead th {\n",
       "        text-align: right;\n",
       "    }\n",
       "</style>\n",
       "<table border=\"1\" class=\"dataframe\">\n",
       "  <thead>\n",
       "    <tr style=\"text-align: right;\">\n",
       "      <th>Distance</th>\n",
       "      <th>Metro/Bus</th>\n",
       "      <th>Train/Tram</th>\n",
       "      <th>Airport</th>\n",
       "      <th>School</th>\n",
       "      <th>Kindergarten</th>\n",
       "      <th>Starbucks</th>\n",
       "      <th>Vegan</th>\n",
       "      <th>Stadium</th>\n",
       "    </tr>\n",
       "  </thead>\n",
       "  <tbody>\n",
       "    <tr>\n",
       "      <th>San Francisco</th>\n",
       "      <td>2</td>\n",
       "      <td>1</td>\n",
       "      <td>2</td>\n",
       "      <td>1</td>\n",
       "      <td>1</td>\n",
       "      <td>1</td>\n",
       "      <td>3</td>\n",
       "      <td>3</td>\n",
       "    </tr>\n",
       "    <tr>\n",
       "      <th>New York</th>\n",
       "      <td>1</td>\n",
       "      <td>2</td>\n",
       "      <td>1</td>\n",
       "      <td>2</td>\n",
       "      <td>2</td>\n",
       "      <td>3</td>\n",
       "      <td>1</td>\n",
       "      <td>1</td>\n",
       "    </tr>\n",
       "    <tr>\n",
       "      <th>London</th>\n",
       "      <td>3</td>\n",
       "      <td>3</td>\n",
       "      <td>3</td>\n",
       "      <td>3</td>\n",
       "      <td>3</td>\n",
       "      <td>2</td>\n",
       "      <td>2</td>\n",
       "      <td>2</td>\n",
       "    </tr>\n",
       "  </tbody>\n",
       "</table>\n",
       "</div>"
      ],
      "text/plain": [
       "Distance       Metro/Bus  Train/Tram  Airport  School  Kindergarten  \\\n",
       "San Francisco          2           1        2       1             1   \n",
       "New York               1           2        1       2             2   \n",
       "London                 3           3        3       3             3   \n",
       "\n",
       "Distance       Starbucks  Vegan  Stadium  \n",
       "San Francisco          1      3        3  \n",
       "New York               3      1        1  \n",
       "London                 2      2        2  "
      ]
     },
     "execution_count": 431,
     "metadata": {},
     "output_type": "execute_result"
    }
   ],
   "source": [
    "df3 = pd.DataFrame(columns=df.columns)\n",
    "\n",
    "# Loop over each row and assign the rank to each column\n",
    "for i, row in df.iterrows():\n",
    "    row_new = []\n",
    "    for j, value in row.iteritems():\n",
    "        if value == df[j].max():\n",
    "            row_new.append(3)\n",
    "        elif value == df[j].min():\n",
    "            row_new.append(1)\n",
    "        else:\n",
    "            row_new.append(2)\n",
    "    df3.loc[i] = row_new\n",
    "\n",
    "df3"
   ]
  },
  {
   "cell_type": "code",
   "execution_count": 436,
   "metadata": {},
   "outputs": [
    {
     "data": {
      "text/html": [
       "<div>\n",
       "<style scoped>\n",
       "    .dataframe tbody tr th:only-of-type {\n",
       "        vertical-align: middle;\n",
       "    }\n",
       "\n",
       "    .dataframe tbody tr th {\n",
       "        vertical-align: top;\n",
       "    }\n",
       "\n",
       "    .dataframe thead th {\n",
       "        text-align: right;\n",
       "    }\n",
       "</style>\n",
       "<table border=\"1\" class=\"dataframe\">\n",
       "  <thead>\n",
       "    <tr style=\"text-align: right;\">\n",
       "      <th>Distance</th>\n",
       "      <th>Metro/Bus</th>\n",
       "      <th>Train/Tram</th>\n",
       "      <th>Airport</th>\n",
       "      <th>School</th>\n",
       "      <th>Kindergarten</th>\n",
       "      <th>Starbucks</th>\n",
       "      <th>Vegan</th>\n",
       "      <th>Stadium</th>\n",
       "      <th>People</th>\n",
       "    </tr>\n",
       "  </thead>\n",
       "  <tbody>\n",
       "    <tr>\n",
       "      <th>San Francisco</th>\n",
       "      <td>2</td>\n",
       "      <td>1</td>\n",
       "      <td>2</td>\n",
       "      <td>1</td>\n",
       "      <td>1</td>\n",
       "      <td>1</td>\n",
       "      <td>3</td>\n",
       "      <td>3</td>\n",
       "      <td>6.325541</td>\n",
       "    </tr>\n",
       "    <tr>\n",
       "      <th>New York</th>\n",
       "      <td>1</td>\n",
       "      <td>2</td>\n",
       "      <td>1</td>\n",
       "      <td>2</td>\n",
       "      <td>2</td>\n",
       "      <td>3</td>\n",
       "      <td>1</td>\n",
       "      <td>1</td>\n",
       "      <td>2.562121</td>\n",
       "    </tr>\n",
       "    <tr>\n",
       "      <th>London</th>\n",
       "      <td>3</td>\n",
       "      <td>3</td>\n",
       "      <td>3</td>\n",
       "      <td>3</td>\n",
       "      <td>3</td>\n",
       "      <td>2</td>\n",
       "      <td>2</td>\n",
       "      <td>2</td>\n",
       "      <td>4.687662</td>\n",
       "    </tr>\n",
       "  </tbody>\n",
       "</table>\n",
       "</div>"
      ],
      "text/plain": [
       "Distance       Metro/Bus  Train/Tram  Airport  School  Kindergarten  \\\n",
       "San Francisco          2           1        2       1             1   \n",
       "New York               1           2        1       2             2   \n",
       "London                 3           3        3       3             3   \n",
       "\n",
       "Distance       Starbucks  Vegan  Stadium    People  \n",
       "San Francisco          1      3        3  6.325541  \n",
       "New York               3      1        1  2.562121  \n",
       "London                 2      2        2  4.687662  "
      ]
     },
     "execution_count": 436,
     "metadata": {},
     "output_type": "execute_result"
    }
   ],
   "source": [
    "df3[\"People\"]=(df3[\"Metro/Bus\"]/77 + df3[\"Train/Tram\"]/77 + df3[\"Airport\"]/20 + df3[\"School\"]/(0.3*77) + df3[\"Kindergarten\"]/(0.3*77) + df3[\"Starbucks\"]/10 + df3[\"Vegan\"] + df3[\"Stadium\"])\n",
    "df3"
   ]
  },
  {
   "cell_type": "code",
   "execution_count": 438,
   "metadata": {},
   "outputs": [
    {
     "data": {
      "text/html": [
       "<div>\n",
       "<style scoped>\n",
       "    .dataframe tbody tr th:only-of-type {\n",
       "        vertical-align: middle;\n",
       "    }\n",
       "\n",
       "    .dataframe tbody tr th {\n",
       "        vertical-align: top;\n",
       "    }\n",
       "\n",
       "    .dataframe thead th {\n",
       "        text-align: right;\n",
       "    }\n",
       "</style>\n",
       "<table border=\"1\" class=\"dataframe\">\n",
       "  <thead>\n",
       "    <tr style=\"text-align: right;\">\n",
       "      <th>Distance</th>\n",
       "      <th>Metro/Bus</th>\n",
       "      <th>Train/Tram</th>\n",
       "      <th>Airport</th>\n",
       "      <th>School</th>\n",
       "      <th>Kindergarten</th>\n",
       "      <th>Starbucks</th>\n",
       "      <th>Vegan</th>\n",
       "      <th>Stadium</th>\n",
       "      <th>People</th>\n",
       "      <th>Heriarchy</th>\n",
       "    </tr>\n",
       "  </thead>\n",
       "  <tbody>\n",
       "    <tr>\n",
       "      <th>San Francisco</th>\n",
       "      <td>2</td>\n",
       "      <td>1</td>\n",
       "      <td>2</td>\n",
       "      <td>1</td>\n",
       "      <td>1</td>\n",
       "      <td>1</td>\n",
       "      <td>3</td>\n",
       "      <td>3</td>\n",
       "      <td>6.325541</td>\n",
       "      <td>25</td>\n",
       "    </tr>\n",
       "    <tr>\n",
       "      <th>New York</th>\n",
       "      <td>1</td>\n",
       "      <td>2</td>\n",
       "      <td>1</td>\n",
       "      <td>2</td>\n",
       "      <td>2</td>\n",
       "      <td>3</td>\n",
       "      <td>1</td>\n",
       "      <td>1</td>\n",
       "      <td>2.562121</td>\n",
       "      <td>20</td>\n",
       "    </tr>\n",
       "    <tr>\n",
       "      <th>London</th>\n",
       "      <td>3</td>\n",
       "      <td>3</td>\n",
       "      <td>3</td>\n",
       "      <td>3</td>\n",
       "      <td>3</td>\n",
       "      <td>2</td>\n",
       "      <td>2</td>\n",
       "      <td>2</td>\n",
       "      <td>4.687662</td>\n",
       "      <td>33</td>\n",
       "    </tr>\n",
       "  </tbody>\n",
       "</table>\n",
       "</div>"
      ],
      "text/plain": [
       "Distance       Metro/Bus  Train/Tram  Airport  School  Kindergarten  \\\n",
       "San Francisco          2           1        2       1             1   \n",
       "New York               1           2        1       2             2   \n",
       "London                 3           3        3       3             3   \n",
       "\n",
       "Distance       Starbucks  Vegan  Stadium    People  Heriarchy  \n",
       "San Francisco          1      3        3  6.325541         25  \n",
       "New York               3      1        1  2.562121         20  \n",
       "London                 2      2        2  4.687662         33  "
      ]
     },
     "execution_count": 438,
     "metadata": {},
     "output_type": "execute_result"
    }
   ],
   "source": [
    "df3[\"Heriarchy\"]=(df3[\"Metro/Bus\"] + df3[\"Train/Tram\"] + df3[\"Airport\"]*3 + df3[\"School\"] + df3[\"Kindergarten\"] + df3[\"Starbucks\"]*2 + df3[\"Vegan\"] + df3[\"Stadium\"]*3)\n",
    "df3"
   ]
  },
  {
   "cell_type": "code",
   "execution_count": 441,
   "metadata": {},
   "outputs": [
    {
     "data": {
      "text/html": [
       "<div>\n",
       "<style scoped>\n",
       "    .dataframe tbody tr th:only-of-type {\n",
       "        vertical-align: middle;\n",
       "    }\n",
       "\n",
       "    .dataframe tbody tr th {\n",
       "        vertical-align: top;\n",
       "    }\n",
       "\n",
       "    .dataframe thead th {\n",
       "        text-align: right;\n",
       "    }\n",
       "</style>\n",
       "<table border=\"1\" class=\"dataframe\">\n",
       "  <thead>\n",
       "    <tr style=\"text-align: right;\">\n",
       "      <th>Distance</th>\n",
       "      <th>Metro/Bus</th>\n",
       "      <th>Train/Tram</th>\n",
       "      <th>Airport</th>\n",
       "      <th>School</th>\n",
       "      <th>Kindergarten</th>\n",
       "      <th>Starbucks</th>\n",
       "      <th>Vegan</th>\n",
       "      <th>Stadium</th>\n",
       "      <th>People</th>\n",
       "      <th>Heriarchy</th>\n",
       "      <th>Importance</th>\n",
       "    </tr>\n",
       "  </thead>\n",
       "  <tbody>\n",
       "    <tr>\n",
       "      <th>San Francisco</th>\n",
       "      <td>2</td>\n",
       "      <td>1</td>\n",
       "      <td>2</td>\n",
       "      <td>1</td>\n",
       "      <td>1</td>\n",
       "      <td>1</td>\n",
       "      <td>3</td>\n",
       "      <td>3</td>\n",
       "      <td>6.325541</td>\n",
       "      <td>25</td>\n",
       "      <td>7.1</td>\n",
       "    </tr>\n",
       "    <tr>\n",
       "      <th>New York</th>\n",
       "      <td>1</td>\n",
       "      <td>2</td>\n",
       "      <td>1</td>\n",
       "      <td>2</td>\n",
       "      <td>2</td>\n",
       "      <td>3</td>\n",
       "      <td>1</td>\n",
       "      <td>1</td>\n",
       "      <td>2.562121</td>\n",
       "      <td>20</td>\n",
       "      <td>5.8</td>\n",
       "    </tr>\n",
       "    <tr>\n",
       "      <th>London</th>\n",
       "      <td>3</td>\n",
       "      <td>3</td>\n",
       "      <td>3</td>\n",
       "      <td>3</td>\n",
       "      <td>3</td>\n",
       "      <td>2</td>\n",
       "      <td>2</td>\n",
       "      <td>2</td>\n",
       "      <td>4.687662</td>\n",
       "      <td>33</td>\n",
       "      <td>8.7</td>\n",
       "    </tr>\n",
       "  </tbody>\n",
       "</table>\n",
       "</div>"
      ],
      "text/plain": [
       "Distance       Metro/Bus  Train/Tram  Airport  School  Kindergarten  \\\n",
       "San Francisco          2           1        2       1             1   \n",
       "New York               1           2        1       2             2   \n",
       "London                 3           3        3       3             3   \n",
       "\n",
       "Distance       Starbucks  Vegan  Stadium    People  Heriarchy  Importance  \n",
       "San Francisco          1      3        3  6.325541         25         7.1  \n",
       "New York               3      1        1  2.562121         20         5.8  \n",
       "London                 2      2        2  4.687662         33         8.7  "
      ]
     },
     "execution_count": 441,
     "metadata": {},
     "output_type": "execute_result"
    }
   ],
   "source": [
    "df3[\"Importance\"]=(df3[\"Metro/Bus\"]*0.1 + df3[\"Train/Tram\"]*0.2 + df3[\"Airport\"]*0.4 + df3[\"School\"]*0.5 + df3[\"Kindergarten\"]*0.3 + df3[\"Starbucks\"]*0.6 + df3[\"Vegan\"]*0.7 + df3[\"Stadium\"]*0.8)\n",
    "df3"
   ]
  },
  {
   "cell_type": "code",
   "execution_count": 443,
   "metadata": {},
   "outputs": [
    {
     "data": {
      "text/html": [
       "<div>\n",
       "<style scoped>\n",
       "    .dataframe tbody tr th:only-of-type {\n",
       "        vertical-align: middle;\n",
       "    }\n",
       "\n",
       "    .dataframe tbody tr th {\n",
       "        vertical-align: top;\n",
       "    }\n",
       "\n",
       "    .dataframe thead th {\n",
       "        text-align: right;\n",
       "    }\n",
       "</style>\n",
       "<table border=\"1\" class=\"dataframe\">\n",
       "  <thead>\n",
       "    <tr style=\"text-align: right;\">\n",
       "      <th>Distance</th>\n",
       "      <th>Metro/Bus</th>\n",
       "      <th>Train/Tram</th>\n",
       "      <th>Airport</th>\n",
       "      <th>School</th>\n",
       "      <th>Kindergarten</th>\n",
       "      <th>Starbucks</th>\n",
       "      <th>Vegan</th>\n",
       "      <th>Stadium</th>\n",
       "      <th>People</th>\n",
       "      <th>Heriarchy</th>\n",
       "      <th>Importance</th>\n",
       "      <th>Combo</th>\n",
       "    </tr>\n",
       "  </thead>\n",
       "  <tbody>\n",
       "    <tr>\n",
       "      <th>San Francisco</th>\n",
       "      <td>2</td>\n",
       "      <td>1</td>\n",
       "      <td>2</td>\n",
       "      <td>1</td>\n",
       "      <td>1</td>\n",
       "      <td>1</td>\n",
       "      <td>3</td>\n",
       "      <td>3</td>\n",
       "      <td>6.325541</td>\n",
       "      <td>25</td>\n",
       "      <td>7.1</td>\n",
       "      <td>9.579827</td>\n",
       "    </tr>\n",
       "    <tr>\n",
       "      <th>New York</th>\n",
       "      <td>1</td>\n",
       "      <td>2</td>\n",
       "      <td>1</td>\n",
       "      <td>2</td>\n",
       "      <td>2</td>\n",
       "      <td>3</td>\n",
       "      <td>1</td>\n",
       "      <td>1</td>\n",
       "      <td>2.562121</td>\n",
       "      <td>20</td>\n",
       "      <td>5.8</td>\n",
       "      <td>3.595758</td>\n",
       "    </tr>\n",
       "    <tr>\n",
       "      <th>London</th>\n",
       "      <td>3</td>\n",
       "      <td>3</td>\n",
       "      <td>3</td>\n",
       "      <td>3</td>\n",
       "      <td>3</td>\n",
       "      <td>2</td>\n",
       "      <td>2</td>\n",
       "      <td>2</td>\n",
       "      <td>4.687662</td>\n",
       "      <td>33</td>\n",
       "      <td>8.7</td>\n",
       "      <td>6.735584</td>\n",
       "    </tr>\n",
       "  </tbody>\n",
       "</table>\n",
       "</div>"
      ],
      "text/plain": [
       "Distance       Metro/Bus  Train/Tram  Airport  School  Kindergarten  \\\n",
       "San Francisco          2           1        2       1             1   \n",
       "New York               1           2        1       2             2   \n",
       "London                 3           3        3       3             3   \n",
       "\n",
       "Distance       Starbucks  Vegan  Stadium    People  Heriarchy  Importance  \\\n",
       "San Francisco          1      3        3  6.325541         25         7.1   \n",
       "New York               3      1        1  2.562121         20         5.8   \n",
       "London                 2      2        2  4.687662         33         8.7   \n",
       "\n",
       "Distance          Combo  \n",
       "San Francisco  9.579827  \n",
       "New York       3.595758  \n",
       "London         6.735584  "
      ]
     },
     "execution_count": 443,
     "metadata": {},
     "output_type": "execute_result"
    }
   ],
   "source": [
    "df3[\"Combo\"]=((df3[\"Metro/Bus\"]/77)*0.1 + (df3[\"Train/Tram\"]/77)*0.2 + (df3[\"Airport\"]/20)*3*0.4 + (df3[\"School\"]/(0.3*77))*0.5 + (df3[\"Kindergarten\"]/(0.3*77))*0.3 + (df3[\"Starbucks\"]/10)*2*0.6 + df3[\"Vegan\"]*0.7 + df3[\"Stadium\"]*3*0.8)\n",
    "df3"
   ]
  },
  {
   "cell_type": "code",
   "execution_count": 488,
   "metadata": {},
   "outputs": [
    {
     "data": {
      "text/html": [
       "<div>\n",
       "<style scoped>\n",
       "    .dataframe tbody tr th:only-of-type {\n",
       "        vertical-align: middle;\n",
       "    }\n",
       "\n",
       "    .dataframe tbody tr th {\n",
       "        vertical-align: top;\n",
       "    }\n",
       "\n",
       "    .dataframe thead th {\n",
       "        text-align: right;\n",
       "    }\n",
       "</style>\n",
       "<table border=\"1\" class=\"dataframe\">\n",
       "  <thead>\n",
       "    <tr style=\"text-align: right;\">\n",
       "      <th>Distance</th>\n",
       "      <th>People</th>\n",
       "      <th>Heriarchy</th>\n",
       "      <th>Importance</th>\n",
       "      <th>Combo</th>\n",
       "    </tr>\n",
       "    <tr>\n",
       "      <th>City</th>\n",
       "      <th></th>\n",
       "      <th></th>\n",
       "      <th></th>\n",
       "      <th></th>\n",
       "    </tr>\n",
       "  </thead>\n",
       "  <tbody>\n",
       "    <tr>\n",
       "      <th>San Francisco</th>\n",
       "      <td>3158.147835</td>\n",
       "      <td>69982</td>\n",
       "      <td>12027.9</td>\n",
       "      <td>5826.351429</td>\n",
       "    </tr>\n",
       "    <tr>\n",
       "      <th>New York</th>\n",
       "      <td>1766.828571</td>\n",
       "      <td>21784</td>\n",
       "      <td>5874.6</td>\n",
       "      <td>3981.060087</td>\n",
       "    </tr>\n",
       "    <tr>\n",
       "      <th>London</th>\n",
       "      <td>3559.801515</td>\n",
       "      <td>91019</td>\n",
       "      <td>16497.3</td>\n",
       "      <td>5899.616364</td>\n",
       "    </tr>\n",
       "  </tbody>\n",
       "</table>\n",
       "</div>"
      ],
      "text/plain": [
       "Distance            People  Heriarchy  Importance        Combo\n",
       "City                                                          \n",
       "San Francisco  3158.147835      69982     12027.9  5826.351429\n",
       "New York       1766.828571      21784      5874.6  3981.060087\n",
       "London         3559.801515      91019     16497.3  5899.616364"
      ]
     },
     "execution_count": 488,
     "metadata": {},
     "output_type": "execute_result"
    }
   ],
   "source": [
    "df4=df2[[\"People\", \"Heriarchy\", \"Importance\", \"Combo\"]]\n",
    "df4"
   ]
  },
  {
   "cell_type": "code",
   "execution_count": 492,
   "metadata": {},
   "outputs": [
    {
     "data": {
      "image/png": "[encoded data removed]",
      "text/plain": [
       "<Figure size 432x288 with 1 Axes>"
      ]
     },
     "metadata": {
      "needs_background": "light"
     },
     "output_type": "display_data"
    }
   ],
   "source": [
    "df4_melted = df4.reset_index().melt(id_vars='City', var_name='Column', value_name='Value')\n",
    "\n",
    "# Create the line plot\n",
    "sns.lineplot(x='Column', y='Value', hue='City', data=df4_melted)\n",
    "\n",
    "plt.savefig(\"Images/Total.png\")\n",
    "plt.show()"
   ]
  },
  {
   "cell_type": "code",
   "execution_count": 477,
   "metadata": {},
   "outputs": [
    {
     "data": {
      "text/html": [
       "<div>\n",
       "<style scoped>\n",
       "    .dataframe tbody tr th:only-of-type {\n",
       "        vertical-align: middle;\n",
       "    }\n",
       "\n",
       "    .dataframe tbody tr th {\n",
       "        vertical-align: top;\n",
       "    }\n",
       "\n",
       "    .dataframe thead th {\n",
       "        text-align: right;\n",
       "    }\n",
       "</style>\n",
       "<table border=\"1\" class=\"dataframe\">\n",
       "  <thead>\n",
       "    <tr style=\"text-align: right;\">\n",
       "      <th>Distance</th>\n",
       "      <th>People</th>\n",
       "      <th>Heriarchy</th>\n",
       "      <th>Importance</th>\n",
       "      <th>Combo</th>\n",
       "    </tr>\n",
       "  </thead>\n",
       "  <tbody>\n",
       "    <tr>\n",
       "      <th>San Francisco</th>\n",
       "      <td>6.325541</td>\n",
       "      <td>25</td>\n",
       "      <td>7.1</td>\n",
       "      <td>9.579827</td>\n",
       "    </tr>\n",
       "    <tr>\n",
       "      <th>New York</th>\n",
       "      <td>2.562121</td>\n",
       "      <td>20</td>\n",
       "      <td>5.8</td>\n",
       "      <td>3.595758</td>\n",
       "    </tr>\n",
       "    <tr>\n",
       "      <th>London</th>\n",
       "      <td>4.687662</td>\n",
       "      <td>33</td>\n",
       "      <td>8.7</td>\n",
       "      <td>6.735584</td>\n",
       "    </tr>\n",
       "  </tbody>\n",
       "</table>\n",
       "</div>"
      ],
      "text/plain": [
       "Distance         People  Heriarchy  Importance     Combo\n",
       "San Francisco  6.325541         25         7.1  9.579827\n",
       "New York       2.562121         20         5.8  3.595758\n",
       "London         4.687662         33         8.7  6.735584"
      ]
     },
     "execution_count": 477,
     "metadata": {},
     "output_type": "execute_result"
    }
   ],
   "source": [
    "df5=df3[[\"People\", \"Heriarchy\", \"Importance\", \"Combo\"]]\n",
    "df5"
   ]
  },
  {
   "cell_type": "code",
   "execution_count": 493,
   "metadata": {},
   "outputs": [
    {
     "data": {
      "image/png": "[encoded data removed]",
      "text/plain": [
       "<Figure size 432x288 with 1 Axes>"
      ]
     },
     "metadata": {
      "needs_background": "light"
     },
     "output_type": "display_data"
    }
   ],
   "source": [
    "df5_melted = df5.reset_index().melt(id_vars='index', var_name='Column', value_name='Value')\n",
    "\n",
    "# Create the line plot\n",
    "sns.lineplot(x='Column', y='Value', hue='index', data=df5_melted)\n",
    "\n",
    "plt.savefig(\"Images/Partial.png\")\n",
    "plt.show()"
   ]
  },
  {
   "cell_type": "code",
   "execution_count": null,
   "metadata": {},
   "outputs": [],
   "source": [
    "def Mapa(lat, lon):\n",
    "    origen = Map(location=[lat, lon], zoom_start=13)\n",
    "#Option of setting the company    \n",
    "    icon1 = Icon(\n",
    "        color=\"lightred\",\n",
    "        prefix=\"fa\",\n",
    "        icon=\"gamepad\",\n",
    "        icon_color=\"white\"\n",
    "    )\n",
    "\n",
    "    game = Marker(\n",
    "        location=[lat, lon],\n",
    "        tooltip=\"Game\",\n",
    "        icon=icon1\n",
    "    )\n",
    "    game.add_to(origen)\n",
    "\n",
    "#Starbucks  \n",
    "    url = f\"https://api.foursquare.com/v3/places/search?query=Starbucks&near={lat}%2C{lon}&limit=1\"\n",
    "\n",
    "    headers = {\n",
    "        \"accept\": \"application/json\",\n",
    "        \"Authorization\": (token)\n",
    "    }\n",
    "\n",
    "    response = requests.get(url, headers=headers)\n",
    "    coffe = response.json()[\"results\"][0]\n",
    "    loncoffe = coffe[\"geocodes\"][\"main\"][\"longitude\"]\n",
    "    latcoffe = coffe[\"geocodes\"][\"main\"][\"latitude\"]\n",
    "    \n",
    "    icon2 = Icon(\n",
    "        color=\"white\",\n",
    "        prefix=\"fa\",\n",
    "        icon=\"coffee\",\n",
    "        icon_color=\"green\"\n",
    "    )\n",
    "\n",
    "    coffee = Marker(\n",
    "        location=[latcoffe, loncoffe],\n",
    "        tooltip=\"coffee\",\n",
    "        icon=icon2\n",
    "    )\n",
    "    coffee.add_to(origen)\n",
    "#airports category:19031\n",
    "    url = f\"https://api.foursquare.com/v3/places/search?ll={lat}%2C{lon}&categories=19031&limit=1\"\n",
    "\n",
    "    response = requests.get(url, headers=headers)\n",
    "    air = response.json()[\"results\"][0]\n",
    "    lonair = air[\"geocodes\"][\"main\"][\"longitude\"]\n",
    "    latair = air[\"geocodes\"][\"main\"][\"latitude\"]\n",
    "    \n",
    "    icon3 = Icon(\n",
    "        color=\"lightblue\",\n",
    "        prefix=\"fa\",\n",
    "        icon=\"plane\",\n",
    "        icon_color=\"grey\"\n",
    "    )\n",
    "\n",
    "    plane = Marker(\n",
    "        location=[latair, lonair],\n",
    "        tooltip=\"Airport\",\n",
    "        icon=icon3\n",
    "    )\n",
    "    plane.add_to(origen)\n",
    "#Metros and buses\n",
    "    url = f\"https://api.foursquare.com/v3/places/search?ll={lat}%2C{lon}&categories=19046%2C19042&limit=1\"\n",
    "\n",
    "    response = requests.get(url, headers=headers)\n",
    "    metro = response.json()[\"results\"][0]\n",
    "    lonmetro = metro[\"geocodes\"][\"main\"][\"longitude\"]\n",
    "    latmetro = metro[\"geocodes\"][\"main\"][\"latitude\"]\n",
    "    \n",
    "    icon4 = Icon(\n",
    "        color=\"lightblue\",\n",
    "        prefix=\"fa\",\n",
    "        icon=\"bus\",\n",
    "        icon_color=\"grey\"\n",
    "    )\n",
    "\n",
    "    metro = Marker(\n",
    "        location=[latmetro, lonmetro],\n",
    "        tooltip=\"Bus/Metro Station\",\n",
    "        icon=icon4\n",
    "    )\n",
    "    metro.add_to(origen)\n",
    "\n",
    "\n",
    "#Rail and Tram\n",
    "    url = f\"https://api.foursquare.com/v3/places/search?ll={lat}%2C{lon}&categories=19047%2C19050&limit=1\"\n",
    "\n",
    "    response = requests.get(url, headers=headers)\n",
    "    rail = response.json()[\"results\"][0]\n",
    "    lonrail = rail[\"geocodes\"][\"main\"][\"longitude\"]\n",
    "    latrail = rail[\"geocodes\"][\"main\"][\"latitude\"]\n",
    "    \n",
    "    icon5 = Icon(\n",
    "        color=\"lightblue\",\n",
    "        prefix=\"fa\",\n",
    "        icon=\"train\",\n",
    "        icon_color=\"grey\"\n",
    "    )\n",
    "\n",
    "    rail = Marker(\n",
    "        location=[latrail, lonrail],\n",
    "        tooltip=\"Train/Tram Station\",\n",
    "        icon=icon5\n",
    "    )\n",
    "    rail.add_to(origen)\n",
    "\n",
    "#Schools category:12057\n",
    "    url = f\"https://api.foursquare.com/v3/places/search?ll={lat}%2C{lon}&categories=12057&limit=1\"\n",
    "\n",
    "    response = requests.get(url, headers=headers)\n",
    "    school = response.json()[\"results\"][0]\n",
    "    lonschool = school[\"geocodes\"][\"main\"][\"longitude\"]\n",
    "    latschool = school[\"geocodes\"][\"main\"][\"latitude\"]\n",
    "    \n",
    "    icon6 = Icon(\n",
    "        color=\"orange\",\n",
    "        prefix=\"fa\",\n",
    "        icon=\"graduation-cap\",\n",
    "        icon_color=\"black\"\n",
    "    )\n",
    "\n",
    "    school = Marker(\n",
    "        location=[latschool, lonschool],\n",
    "        tooltip=\"School\",\n",
    "        icon=icon6\n",
    "    )\n",
    "    school.add_to(origen)\n",
    "\n",
    "#Kindergarten Schools category:12056\n",
    "    url = f\"https://api.foursquare.com/v3/places/search?ll={lat}%2C{lon}&categories=12056&limit=1\"\n",
    "\n",
    "    response = requests.get(url, headers=headers)\n",
    "    kinder = response.json()[\"results\"][0]\n",
    "    lonkinder = kinder[\"geocodes\"][\"main\"][\"longitude\"]\n",
    "    latkinder = kinder[\"geocodes\"][\"main\"][\"latitude\"]\n",
    "    \n",
    "    icon7 = Icon(\n",
    "        color=\"orange\",\n",
    "        prefix=\"fa\",\n",
    "        icon=\"child\",\n",
    "        icon_color=\"black\"\n",
    "    )\n",
    "\n",
    "    kinder = Marker(\n",
    "        location=[latkinder, lonkinder],\n",
    "        tooltip=\"KinderGarten\",\n",
    "        icon=icon7\n",
    "    )\n",
    "    kinder.add_to(origen)\n",
    "#Vegan\n",
    "    url = f\"https://api.foursquare.com/v3/places/search?ll={lat}%2C{lon}&categories=13377&limit=1\"\n",
    "\n",
    "    response = requests.get(url, headers=headers)\n",
    "    vegan = response.json()[\"results\"][0]\n",
    "    lonvegan = vegan[\"geocodes\"][\"main\"][\"longitude\"]\n",
    "    latvegan = vegan[\"geocodes\"][\"main\"][\"latitude\"]\n",
    "    \n",
    "    icon8 = Icon(\n",
    "        color=\"green\",\n",
    "        prefix=\"fa\",\n",
    "        icon=\"cutlery\",\n",
    "        icon_color=\"white\"\n",
    "    )\n",
    "\n",
    "    vegan = Marker(\n",
    "        location=[latvegan, lonvegan],\n",
    "        tooltip=\"Vegan\",\n",
    "        icon=icon8\n",
    "    )\n",
    "    vegan.add_to(origen)\n",
    "\n",
    "\n",
    "#Court\n",
    "    url = f\"https://api.foursquare.com/v3/places/search?ll={lat}%2C{lon}&categories=18006&limit=1\"\n",
    "\n",
    "    response = requests.get(url, headers=headers)\n",
    "    basket = response.json()[\"results\"][0]\n",
    "    lonbasket = basket[\"geocodes\"][\"main\"][\"longitude\"]\n",
    "    latbasket = basket[\"geocodes\"][\"main\"][\"latitude\"]\n",
    "    \n",
    "    icon9 = Icon(\n",
    "        color=\"white\",\n",
    "        prefix=\"fa\",\n",
    "        icon=\"globe\",\n",
    "        icon_color=\"orange\"\n",
    "    )\n",
    "\n",
    "    basket = Marker(\n",
    "        location=[latbasket, lonbasket],\n",
    "        tooltip=\"Stadium\",\n",
    "        icon=icon9\n",
    "    )\n",
    "    basket.add_to(origen)\n",
    "    return origen"
   ]
  },
  {
   "cell_type": "code",
   "execution_count": 494,
   "metadata": {},
   "outputs": [],
   "source": [
    "Mapa(41.3995235,2.1384912)"
   ]
  },
  {
   "cell_type": "code",
   "execution_count": 344,
   "metadata": {},
   "outputs": [
    {
     "data": {
      "text/plain": [
       "{'Closest Metro/Bus': 1224,\n",
       " 'Closest Train/Tram': 4290,\n",
       " 'Closest Airport': 12662,\n",
       " 'Closest School': 1707,\n",
       " 'Closest Kindergarten': 704,\n",
       " 'Closest Starbucks': 1365,\n",
       " 'Closest Vegan Restaurant': 1830,\n",
       " 'Closest Basketball Stadium': 16211}"
      ]
     },
     "execution_count": 344,
     "metadata": {},
     "output_type": "execute_result"
    }
   ],
   "source": [
    "distances(41.3995235,2.1384912)"
   ]
  },
  {
   "cell_type": "code",
   "execution_count": null,
   "metadata": {},
   "outputs": [],
   "source": []
  },
  {
   "cell_type": "code",
   "execution_count": null,
   "metadata": {},
   "outputs": [],
   "source": []
  }
 ],
 "metadata": {
  "kernelspec": {
   "display_name": "ironhack",
   "language": "python",
   "name": "python3"
  },
  "language_info": {
   "codemirror_mode": {
    "name": "ipython",
    "version": 3
   },
   "file_extension": ".py",
   "mimetype": "text/x-python",
   "name": "python",
   "nbconvert_exporter": "python",
   "pygments_lexer": "ipython3",
   "version": "3.10.4"
  },
  "orig_nbformat": 4,
  "vscode": {
   "interpreter": {
    "hash": "827cb459ef7dfa823b7fba71272161b29eeaf9e5af81f5ec193dda0aa6af3e3d"
   }
  }
 },
 "nbformat": 4,
 "nbformat_minor": 2
}
